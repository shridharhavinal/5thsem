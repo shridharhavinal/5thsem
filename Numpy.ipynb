{
 "cells": [
  {
   "cell_type": "markdown",
   "id": "66438216",
   "metadata": {},
   "source": [
    "# Numpy Library"
   ]
  },
  {
   "cell_type": "code",
   "execution_count": 3,
   "id": "ca5b4433",
   "metadata": {},
   "outputs": [],
   "source": [
    "#fast\n",
    "#convenient\n",
    "#Efficient Storage"
   ]
  },
  {
   "cell_type": "code",
   "execution_count": 1,
   "id": "9c6e3720",
   "metadata": {},
   "outputs": [
    {
     "data": {
      "text/plain": [
       "'1.21.5'"
      ]
     },
     "execution_count": 1,
     "metadata": {},
     "output_type": "execute_result"
    }
   ],
   "source": [
    "import numpy as np\n",
    "np.__version__"
   ]
  },
  {
   "cell_type": "markdown",
   "id": "abcd866d",
   "metadata": {},
   "source": [
    "# CREATE A 1-D ARRAY USING ARRAY()"
   ]
  },
  {
   "cell_type": "code",
   "execution_count": 2,
   "id": "03fd3651",
   "metadata": {},
   "outputs": [
    {
     "name": "stdout",
     "output_type": "stream",
     "text": [
      "[1 2 3]\n",
      "int32\n",
      "(3,)\n"
     ]
    }
   ],
   "source": [
    "import numpy as np\n",
    "a=np.array([1,2,3])\n",
    "print(a)\n",
    "print(a.dtype)\n",
    "print(a.shape)"
   ]
  },
  {
   "cell_type": "markdown",
   "id": "1e09d1e5",
   "metadata": {},
   "source": [
    "# CREATE A 1-D ARRAY USING ARANGE()"
   ]
  },
  {
   "cell_type": "code",
   "execution_count": 8,
   "id": "dc49fdd8",
   "metadata": {},
   "outputs": [
    {
     "name": "stdout",
     "output_type": "stream",
     "text": [
      "[1 2 3]\n",
      "int32\n",
      "(3,)\n"
     ]
    }
   ],
   "source": [
    "import numpy as np\n",
    "a=np.arange(1,4)\n",
    "print(a)\n",
    "print(a.dtype)\n",
    "print(a.shape)"
   ]
  },
  {
   "cell_type": "markdown",
   "id": "595d6655",
   "metadata": {},
   "source": [
    "# CREATE A 2-D ARRAY USING ARRAY()"
   ]
  },
  {
   "cell_type": "code",
   "execution_count": 2,
   "id": "422a6105",
   "metadata": {},
   "outputs": [
    {
     "name": "stdout",
     "output_type": "stream",
     "text": [
      "[[1 2 3 4]\n",
      " [5 6 7 8]]\n",
      "int32\n",
      "(2, 4)\n"
     ]
    }
   ],
   "source": [
    "import numpy as np\n",
    "b=np.array([[1,2,3,4],[5,6,7,8]])\n",
    "print(b)\n",
    "print(b.dtype)\n",
    "print(b.shape)"
   ]
  },
  {
   "cell_type": "markdown",
   "id": "442a2645",
   "metadata": {},
   "source": [
    "# CREATE A 2-D ARRAY USING ARANGE()"
   ]
  },
  {
   "cell_type": "code",
   "execution_count": 7,
   "id": "e800dcd5",
   "metadata": {},
   "outputs": [
    {
     "name": "stdout",
     "output_type": "stream",
     "text": [
      "[[0 1]\n",
      " [2 3]\n",
      " [4 5]\n",
      " [6 7]\n",
      " [8 9]]\n",
      "int32\n",
      "(5, 2)\n"
     ]
    }
   ],
   "source": [
    "import numpy as np\n",
    "a=np.arange(10).reshape(5,2) #MULTIPLY MUST RESULT SAME RANGE\n",
    "print(a)\n",
    "print(a.dtype)\n",
    "print(a.shape)"
   ]
  },
  {
   "cell_type": "markdown",
   "id": "a3c10f4d",
   "metadata": {},
   "source": [
    "# CREATE A 3-D ARRAY USING ARRAY()"
   ]
  },
  {
   "cell_type": "code",
   "execution_count": 11,
   "id": "0169a043",
   "metadata": {},
   "outputs": [
    {
     "name": "stdout",
     "output_type": "stream",
     "text": [
      "[[[ 1  2]\n",
      "  [ 3  4]]\n",
      "\n",
      " [[ 5  6]\n",
      "  [ 7  8]]\n",
      "\n",
      " [[ 9 10]\n",
      "  [11 12]]]\n",
      "int32\n",
      "(3, 2, 2)\n"
     ]
    }
   ],
   "source": [
    "import numpy as np\n",
    "a=np.array(\n",
    "    [\n",
    "    [[1,2],[3,4]],\n",
    "    [[5,6], [7,8]],\n",
    "    [[9,10],[11,12]]    \n",
    "     ]\n",
    ")\n",
    "print(a)\n",
    "print(a.dtype)\n",
    "print(a.shape)"
   ]
  },
  {
   "cell_type": "markdown",
   "id": "3184bc3b",
   "metadata": {},
   "source": [
    "# CREATE A 3-D ARRAY USING ARANGE()"
   ]
  },
  {
   "cell_type": "code",
   "execution_count": 21,
   "id": "ce226b95",
   "metadata": {},
   "outputs": [
    {
     "name": "stdout",
     "output_type": "stream",
     "text": [
      "[[[ 1  2]\n",
      "  [ 3  4]\n",
      "  [ 5  6]]\n",
      "\n",
      " [[ 7  8]\n",
      "  [ 9 10]\n",
      "  [11 12]]\n",
      "\n",
      " [[13 14]\n",
      "  [15 16]\n",
      "  [17 18]]]\n",
      "\n",
      "int32\n",
      "(3, 3, 2)\n"
     ]
    }
   ],
   "source": [
    "import numpy as np\n",
    "a=np.arange(1,19).reshape(3,3,2)  #MULTIPLY MUST RESULT SAME RANGE\n",
    "print(a)\n",
    "print()\n",
    "print(a.dtype)\n",
    "print(a.shape)"
   ]
  },
  {
   "cell_type": "markdown",
   "id": "e1065b12",
   "metadata": {},
   "source": [
    "# CREATING ARRAY OF ONES (1-D)"
   ]
  },
  {
   "cell_type": "code",
   "execution_count": 35,
   "id": "681c3709",
   "metadata": {},
   "outputs": [
    {
     "name": "stdout",
     "output_type": "stream",
     "text": [
      "[1 1 1 1 1 1 1 1 1 1]\n",
      "int32\n",
      "(10,)\n"
     ]
    }
   ],
   "source": [
    "import numpy as np\n",
    "a=np.ones(10,dtype=np.int32)\n",
    "print(a)\n",
    "print(a.dtype)\n",
    "print(a.shape)"
   ]
  },
  {
   "cell_type": "markdown",
   "id": "b7f19301",
   "metadata": {},
   "source": [
    "# CREATING ARRAY OF ONES(2-D)"
   ]
  },
  {
   "cell_type": "code",
   "execution_count": 38,
   "id": "c9f6b719",
   "metadata": {},
   "outputs": [
    {
     "name": "stdout",
     "output_type": "stream",
     "text": [
      "[[1 1 1]\n",
      " [1 1 1]\n",
      " [1 1 1]]\n",
      "int32\n",
      "(10,)\n"
     ]
    }
   ],
   "source": [
    "import numpy as np\n",
    "b=np.ones((3,3),dtype=np.int32)\n",
    "print(b)\n",
    "print(a.dtype)\n",
    "print(a.shape)"
   ]
  },
  {
   "cell_type": "markdown",
   "id": "604b7726",
   "metadata": {},
   "source": [
    "# CREATING ARRAY OF ONES(3-D)"
   ]
  },
  {
   "cell_type": "code",
   "execution_count": 40,
   "id": "4caa6dde",
   "metadata": {},
   "outputs": [
    {
     "name": "stdout",
     "output_type": "stream",
     "text": [
      "[[[1 1 1]\n",
      "  [1 1 1]\n",
      "  [1 1 1]]\n",
      "\n",
      " [[1 1 1]\n",
      "  [1 1 1]\n",
      "  [1 1 1]]\n",
      "\n",
      " [[1 1 1]\n",
      "  [1 1 1]\n",
      "  [1 1 1]]]\n",
      "int32\n",
      "(3, 3, 3)\n"
     ]
    }
   ],
   "source": [
    "import numpy as np\n",
    "a=np.ones((3,3,3),dtype=np.int32)\n",
    "print(a)\n",
    "print(a.dtype)\n",
    "print(a.shape)"
   ]
  },
  {
   "cell_type": "markdown",
   "id": "da3d7ca1",
   "metadata": {},
   "source": [
    "# CREATING ARRAY OF ZEROS(1-D)"
   ]
  },
  {
   "cell_type": "code",
   "execution_count": 43,
   "id": "09d2da91",
   "metadata": {},
   "outputs": [
    {
     "name": "stdout",
     "output_type": "stream",
     "text": [
      "[0 0 0]\n",
      "int32\n",
      "(3,)\n"
     ]
    }
   ],
   "source": [
    "import numpy as np\n",
    "a= np.zeros(3,dtype=np.int32)\n",
    "print(a)\n",
    "print(a.dtype)\n",
    "print(a.shape)"
   ]
  },
  {
   "cell_type": "markdown",
   "id": "03e1be86",
   "metadata": {},
   "source": [
    "# CREATING ARRAY OF ZEROS(2-D)"
   ]
  },
  {
   "cell_type": "code",
   "execution_count": 44,
   "id": "ea109d37",
   "metadata": {},
   "outputs": [
    {
     "name": "stdout",
     "output_type": "stream",
     "text": [
      "[[0 0 0]\n",
      " [0 0 0]\n",
      " [0 0 0]]\n",
      "int32\n",
      "(3, 3)\n"
     ]
    }
   ],
   "source": [
    "import numpy as np\n",
    "a=np.zeros((3,3),dtype=\"int32\")\n",
    "print(a)\n",
    "print(a.dtype)\n",
    "print(a.shape)"
   ]
  },
  {
   "cell_type": "markdown",
   "id": "1c2d53ed",
   "metadata": {},
   "source": [
    "# CREATING ARRAY OF ZEROS(3-D)"
   ]
  },
  {
   "cell_type": "code",
   "execution_count": 47,
   "id": "d466eee8",
   "metadata": {},
   "outputs": [
    {
     "name": "stdout",
     "output_type": "stream",
     "text": [
      "[[[0 0 0]\n",
      "  [0 0 0]\n",
      "  [0 0 0]]\n",
      "\n",
      " [[0 0 0]\n",
      "  [0 0 0]\n",
      "  [0 0 0]]\n",
      "\n",
      " [[0 0 0]\n",
      "  [0 0 0]\n",
      "  [0 0 0]]]\n",
      "int32\n",
      "(3, 3, 3)\n"
     ]
    }
   ],
   "source": [
    "import numpy as np\n",
    "a=np.zeros((3,3,3),dtype=\"int32\")\n",
    "print(a)\n",
    "print(a.dtype)\n",
    "print(a.shape)"
   ]
  },
  {
   "cell_type": "markdown",
   "id": "1db9adfe",
   "metadata": {},
   "source": [
    "# CREATE AN ARRAY WITH RANDOM NUMBERS(1-D)"
   ]
  },
  {
   "cell_type": "code",
   "execution_count": 61,
   "id": "3d62da0b",
   "metadata": {},
   "outputs": [
    {
     "name": "stdout",
     "output_type": "stream",
     "text": [
      "[6 7 5]\n",
      "int32\n",
      "(3,)\n"
     ]
    }
   ],
   "source": [
    "import numpy as np\n",
    "a=np.random.randint(5,11,size=(3)) #1-10 size=reshape\n",
    "print(a)\n",
    "print(a.dtype)\n",
    "print(a.shape)"
   ]
  },
  {
   "cell_type": "markdown",
   "id": "0eb86dee",
   "metadata": {},
   "source": [
    "# CREATE AN ARRAY WITH RANDOM NUMBERS(2-D)"
   ]
  },
  {
   "cell_type": "code",
   "execution_count": 64,
   "id": "c972081a",
   "metadata": {},
   "outputs": [
    {
     "name": "stdout",
     "output_type": "stream",
     "text": [
      "[[6 3 8]\n",
      " [5 7 4]\n",
      " [5 4 6]]\n",
      "int32\n",
      "(3, 3)\n"
     ]
    }
   ],
   "source": [
    "import numpy as np\n",
    "a=np.random.randint(1,11,size=(3,3))\n",
    "print(a)\n",
    "print(a.dtype)\n",
    "print(a.shape)"
   ]
  },
  {
   "cell_type": "markdown",
   "id": "de2bd8ec",
   "metadata": {},
   "source": [
    "# CREATE AN ARRAY WITH RANDOM NUMBERS(3-D)"
   ]
  },
  {
   "cell_type": "code",
   "execution_count": 66,
   "id": "c39091ca",
   "metadata": {},
   "outputs": [
    {
     "name": "stdout",
     "output_type": "stream",
     "text": [
      "[[[4 2 1]\n",
      "  [7 6 3]]\n",
      "\n",
      " [[5 2 6]\n",
      "  [9 1 3]]\n",
      "\n",
      " [[4 4 4]\n",
      "  [7 1 2]]]\n",
      "int32\n",
      "(3, 2, 3)\n"
     ]
    }
   ],
   "source": [
    "import numpy as np\n",
    "a=np.random.randint(1,11,size=(3,2,3))\n",
    "print(a)\n",
    "print(a.dtype)\n",
    "print(a.shape)"
   ]
  },
  {
   "cell_type": "markdown",
   "id": "1c0ac614",
   "metadata": {},
   "source": [
    "# CREATE ARRAY WITH SINGLE LOW MULTIPLE HIGH"
   ]
  },
  {
   "cell_type": "code",
   "execution_count": 2,
   "id": "845d4f77",
   "metadata": {},
   "outputs": [
    {
     "name": "stdout",
     "output_type": "stream",
     "text": [
      "[ 9 12 29]\n",
      "int32\n",
      "(3,)\n"
     ]
    }
   ],
   "source": [
    "import numpy as np\n",
    "a=np.random.randint(5,[10,20,30])\n",
    "print(a)\n",
    "print(a.dtype)\n",
    "print(a.shape)"
   ]
  },
  {
   "cell_type": "markdown",
   "id": "a5d32e1b",
   "metadata": {},
   "source": [
    "# CREATE ARRAY WITH MULTIPLE LOW SINGLE HIGH"
   ]
  },
  {
   "cell_type": "code",
   "execution_count": 4,
   "id": "e2affa34",
   "metadata": {},
   "outputs": [
    {
     "name": "stdout",
     "output_type": "stream",
     "text": [
      "[38 26 42]\n",
      "int32\n",
      "(3,)\n"
     ]
    }
   ],
   "source": [
    "import numpy as np\n",
    "a=np.random.randint([10,20,30],50)\n",
    "print(a)\n",
    "print(a.dtype)\n",
    "print(a.shape)"
   ]
  },
  {
   "cell_type": "markdown",
   "id": "5d3b1a2b",
   "metadata": {},
   "source": [
    "# CREATE ARRAY WITH MULTIPLE LOW MULTIPLE HIGH"
   ]
  },
  {
   "cell_type": "code",
   "execution_count": 6,
   "id": "50b6d249",
   "metadata": {},
   "outputs": [
    {
     "name": "stdout",
     "output_type": "stream",
     "text": [
      "[[[1 2 3]\n",
      "  [1 3 4]]\n",
      "\n",
      " [[2 2 3]\n",
      "  [1 2 5]]\n",
      "\n",
      " [[2 3 3]\n",
      "  [2 4 4]]]\n",
      "int32\n",
      "(3, 2, 3)\n"
     ]
    }
   ],
   "source": [
    "import numpy as np\n",
    "a=np.random.randint([1,2,3],[3,5,6],size=(3,2,3))      \n",
    "print(a)\n",
    "print(a.dtype)\n",
    "print(a.shape)"
   ]
  },
  {
   "cell_type": "markdown",
   "id": "0b33452a",
   "metadata": {},
   "source": [
    "# CREATE AN ARRAY USING RANDN()"
   ]
  },
  {
   "cell_type": "code",
   "execution_count": 8,
   "id": "48578d1b",
   "metadata": {},
   "outputs": [
    {
     "name": "stdout",
     "output_type": "stream",
     "text": [
      "[-0.38199105  0.37390346  1.82668423]\n",
      "float64\n"
     ]
    }
   ],
   "source": [
    "import numpy as np\n",
    "a = np.random.randn(3) #n=ANY FLOATING VALUE\n",
    "print(a)\n",
    "print(a.dtype)"
   ]
  },
  {
   "cell_type": "code",
   "execution_count": 10,
   "id": "f51b4d88",
   "metadata": {},
   "outputs": [
    {
     "name": "stdout",
     "output_type": "stream",
     "text": [
      "[[-0.95967903  0.08671854  1.32650254]\n",
      " [ 0.76479507  0.19436158 -0.76355238]\n",
      " [-0.49228759 -1.17540494  0.11335255]]\n"
     ]
    }
   ],
   "source": [
    "import numpy as np\n",
    "a = np.random.randn(3,3)\n",
    "print(a)"
   ]
  },
  {
   "cell_type": "markdown",
   "id": "6a79dfea",
   "metadata": {},
   "source": [
    "# CREATE AN ARRAY USING RAND()"
   ]
  },
  {
   "cell_type": "code",
   "execution_count": 11,
   "id": "def78fe2",
   "metadata": {},
   "outputs": [
    {
     "name": "stdout",
     "output_type": "stream",
     "text": [
      "[[0.55639285 0.64179274 0.26727228]\n",
      " [0.94159187 0.07920052 0.85577504]\n",
      " [0.5279845  0.07890741 0.75864092]]\n",
      "float64\n"
     ]
    }
   ],
   "source": [
    "import numpy as np\n",
    "a = np.random.rand(3,3)\n",
    "print(a)\n",
    "print(a.dtype)"
   ]
  },
  {
   "cell_type": "code",
   "execution_count": 12,
   "id": "d461f71f",
   "metadata": {},
   "outputs": [
    {
     "name": "stdout",
     "output_type": "stream",
     "text": [
      "[[[0.22332138 0.96190984]\n",
      "  [0.81831501 0.90299166]]\n",
      "\n",
      " [[0.61434007 0.92456512]\n",
      "  [0.15919419 0.20200413]]\n",
      "\n",
      " [[0.00265786 0.6473209 ]\n",
      "  [0.03148421 0.55272133]]]\n",
      "float64\n"
     ]
    }
   ],
   "source": [
    "import numpy as np\n",
    "a = np.random.rand(3,2,2)\n",
    "print(a)\n",
    "print(a.dtype)"
   ]
  },
  {
   "cell_type": "markdown",
   "id": "a6bedf2b",
   "metadata": {},
   "source": [
    "# POSITIVE INDEXING IN ARRAY"
   ]
  },
  {
   "cell_type": "code",
   "execution_count": 13,
   "id": "b4f500cf",
   "metadata": {},
   "outputs": [
    {
     "name": "stdout",
     "output_type": "stream",
     "text": [
      "4\n"
     ]
    }
   ],
   "source": [
    "#ARRAY IN 1-D\n",
    "import numpy as np\n",
    "arr = np.array([1,2,3,4,5])\n",
    "print(arr[3])"
   ]
  },
  {
   "cell_type": "code",
   "execution_count": 16,
   "id": "0197e76a",
   "metadata": {},
   "outputs": [
    {
     "name": "stdout",
     "output_type": "stream",
     "text": [
      "6\n",
      "2\n"
     ]
    }
   ],
   "source": [
    "#ARRAY IN 2-D\n",
    "import numpy as np\n",
    "arr=np.array([[1,2,3],[4,5,6]])\n",
    "print(arr[1,2])\n",
    "print(arr[0,1])"
   ]
  },
  {
   "cell_type": "code",
   "execution_count": 20,
   "id": "20b1efd3",
   "metadata": {},
   "outputs": [
    {
     "name": "stdout",
     "output_type": "stream",
     "text": [
      "8\n",
      "9\n"
     ]
    }
   ],
   "source": [
    "#ARRAY IN 3-D\n",
    "import numpy as np\n",
    "arr=np.array([[[1,2,3],[1,2,3]],[[1,1,1],[2,2,2]],[[3,8,3],[4,9,4]]])\n",
    "print(arr[2,0,1])\n",
    "print(arr[2,1,1])"
   ]
  },
  {
   "cell_type": "markdown",
   "id": "5d1b03cf",
   "metadata": {},
   "source": [
    "# NEGATIVE INDEXING IN ARRAY"
   ]
  },
  {
   "cell_type": "code",
   "execution_count": 7,
   "id": "4f846ae1",
   "metadata": {},
   "outputs": [
    {
     "name": "stdout",
     "output_type": "stream",
     "text": [
      "14\n",
      "2\n",
      "12\n"
     ]
    }
   ],
   "source": [
    "#ARRAY IN 2-D\n",
    "import numpy as np\n",
    "arr = np.array([[1,2,3],[4,5,6],[11,12,13],[14,15,16]])\n",
    "print(arr[-1,-3])\n",
    "print(arr[-4,-2])\n",
    "print(arr[-2,-2])"
   ]
  },
  {
   "cell_type": "code",
   "execution_count": 10,
   "id": "6f15b351",
   "metadata": {},
   "outputs": [
    {
     "name": "stdout",
     "output_type": "stream",
     "text": [
      "2\n"
     ]
    }
   ],
   "source": [
    "#ARRAY IN 3-D\n",
    "import numpy as np\n",
    "arr = np.array([[[1,2,3],[4,5,6]],[[1,1,1],[2,2,2]],[[3,3,3],[4,4,4]]])\n",
    "#print(arr)\n",
    "print(arr[-3,-2,-2])"
   ]
  },
  {
   "cell_type": "markdown",
   "id": "cdf375b3",
   "metadata": {},
   "source": [
    "# MIX (+,-,+)"
   ]
  },
  {
   "cell_type": "code",
   "execution_count": 17,
   "id": "5b316808",
   "metadata": {},
   "outputs": [
    {
     "name": "stdout",
     "output_type": "stream",
     "text": [
      "5\n",
      "6\n",
      "8\n",
      "5\n",
      "2\n"
     ]
    }
   ],
   "source": [
    "#ARRAY IN 3-D\n",
    "import numpy as np\n",
    "arr = np.array([[[1,2,3],[4,5,6]],[[1,8,1],[2,5,2]],[[3,3,3],[4,4,4]]])\n",
    "print(arr[-2,-1,-2])\n",
    "print(arr[0,-1,2])\n",
    "print(arr[1,-2,1])\n",
    "print(arr[1,-1,1])\n",
    "print(arr[-3,-2,1])"
   ]
  },
  {
   "cell_type": "markdown",
   "id": "ff08b1a9",
   "metadata": {},
   "source": [
    "# NUMPY ARRAY SLICING"
   ]
  },
  {
   "cell_type": "markdown",
   "id": "d665d803",
   "metadata": {},
   "source": [
    "Slice elements from index 1 to index 5 from the following array :"
   ]
  },
  {
   "cell_type": "code",
   "execution_count": 20,
   "id": "1bfd8369",
   "metadata": {},
   "outputs": [
    {
     "name": "stdout",
     "output_type": "stream",
     "text": [
      "[2 3 4 5]\n"
     ]
    }
   ],
   "source": [
    "import numpy as np\n",
    "a = np.array([1,2,3,4,5,6,7])\n",
    "print(a[1:5])"
   ]
  },
  {
   "cell_type": "markdown",
   "id": "daa4c8bc",
   "metadata": {},
   "source": [
    "Slice elements from index 4 to the end of the array"
   ]
  },
  {
   "cell_type": "code",
   "execution_count": 21,
   "id": "ceb3ce65",
   "metadata": {},
   "outputs": [
    {
     "name": "stdout",
     "output_type": "stream",
     "text": [
      "[5 6 7]\n"
     ]
    }
   ],
   "source": [
    "import numpy as np\n",
    "arr=np.array([1,2,3,4,5,6,7])\n",
    "print(arr[4:])"
   ]
  },
  {
   "cell_type": "markdown",
   "id": "0c14163c",
   "metadata": {},
   "source": [
    "Slice elements from the beginning to index 4(not included)"
   ]
  },
  {
   "cell_type": "code",
   "execution_count": 23,
   "id": "cfe9dba5",
   "metadata": {},
   "outputs": [
    {
     "name": "stdout",
     "output_type": "stream",
     "text": [
      "[1 2 3 4]\n"
     ]
    }
   ],
   "source": [
    "import numpy as np\n",
    "arr=np.array([1,2,3,4,5,6,7])\n",
    "print(arr[:4])"
   ]
  },
  {
   "cell_type": "markdown",
   "id": "d10c10e1",
   "metadata": {},
   "source": [
    "# NEGATIVE SLICING"
   ]
  },
  {
   "cell_type": "markdown",
   "id": "f2168d60",
   "metadata": {},
   "source": [
    " Slice  from the index 3 from the end to index 1 from the end"
   ]
  },
  {
   "cell_type": "code",
   "execution_count": 24,
   "id": "0fbb3ac0",
   "metadata": {},
   "outputs": [
    {
     "name": "stdout",
     "output_type": "stream",
     "text": [
      "[5 6]\n"
     ]
    }
   ],
   "source": [
    "import numpy as np\n",
    "arr=np.array([1,2,3,4,5,6,7])\n",
    "print(arr[-3:-1])"
   ]
  },
  {
   "cell_type": "markdown",
   "id": "0f5cf2ea",
   "metadata": {},
   "source": [
    "Return every other element from index 1 to index 5"
   ]
  },
  {
   "cell_type": "code",
   "execution_count": 33,
   "id": "60a1ba53",
   "metadata": {},
   "outputs": [
    {
     "name": "stdout",
     "output_type": "stream",
     "text": [
      "[7 5]\n"
     ]
    }
   ],
   "source": [
    "import numpy as np\n",
    "arr=np.array([1,2,3,4,5,6,7])\n",
    "print(arr[-1:-5:-2])"
   ]
  },
  {
   "cell_type": "markdown",
   "id": "a57627ba",
   "metadata": {},
   "source": [
    "Return every other element from the entire array"
   ]
  },
  {
   "cell_type": "code",
   "execution_count": 34,
   "id": "d5455cf4",
   "metadata": {},
   "outputs": [
    {
     "name": "stdout",
     "output_type": "stream",
     "text": [
      "[7 5 3 1]\n"
     ]
    }
   ],
   "source": [
    "import numpy as np\n",
    "arr=np.array([1,2,3,4,5,6,7])\n",
    "print(arr[::-2])"
   ]
  },
  {
   "cell_type": "markdown",
   "id": "f6a88771",
   "metadata": {},
   "source": [
    "# SLICING 2-D ARRAY"
   ]
  },
  {
   "cell_type": "markdown",
   "id": "1fa21917",
   "metadata": {},
   "source": [
    "From the second element,slice elements from index 1 to index 4 (not included):"
   ]
  },
  {
   "cell_type": "code",
   "execution_count": 29,
   "id": "5119213c",
   "metadata": {},
   "outputs": [
    {
     "name": "stdout",
     "output_type": "stream",
     "text": [
      "[5 6 7]\n"
     ]
    }
   ],
   "source": [
    "import numpy as np\n",
    "arr=np.array([[1,2,3,4,5],[4,5,6,7,8]])\n",
    "print(arr[1,1:4])"
   ]
  },
  {
   "cell_type": "markdown",
   "id": "2f687250",
   "metadata": {},
   "source": [
    "From both arrays ,return index 2:"
   ]
  },
  {
   "cell_type": "code",
   "execution_count": 37,
   "id": "f77104cd",
   "metadata": {},
   "outputs": [
    {
     "name": "stdout",
     "output_type": "stream",
     "text": [
      "[3 8]\n"
     ]
    }
   ],
   "source": [
    "import numpy as np\n",
    "arr = np.array([[1,2,3,4,5],[6,7,8,9,10]])\n",
    "print(arr[0:2,2])"
   ]
  },
  {
   "cell_type": "markdown",
   "id": "c5d1564e",
   "metadata": {},
   "source": [
    "From both elements ,slice index 1 to index 4 (not included),this wll return a 2-D array:"
   ]
  },
  {
   "cell_type": "code",
   "execution_count": 40,
   "id": "c9a0e6e8",
   "metadata": {},
   "outputs": [
    {
     "name": "stdout",
     "output_type": "stream",
     "text": [
      "[[2 3 4]\n",
      " [7 8 9]]\n"
     ]
    }
   ],
   "source": [
    "import numpy as np\n",
    "arr = np.array([[1,2,3,4,5],[6,7,8,9,10]])\n",
    "print(arr[0:,1:4])"
   ]
  },
  {
   "cell_type": "markdown",
   "id": "6e1b27e2",
   "metadata": {},
   "source": [
    "# NUMPY ARRAY COPY VS VIEW"
   ]
  },
  {
   "cell_type": "markdown",
   "id": "8ef11562",
   "metadata": {},
   "source": [
    "Here, in copy any changes made in copy will not affect original array or  changes made in original will not affect copy array"
   ]
  },
  {
   "cell_type": "markdown",
   "id": "4ebb30cb",
   "metadata": {},
   "source": [
    "In view it does not own the data,any changes is done on any array then it will affect both the arrays"
   ]
  },
  {
   "cell_type": "code",
   "execution_count": 5,
   "id": "c2831586",
   "metadata": {},
   "outputs": [
    {
     "name": "stdout",
     "output_type": "stream",
     "text": [
      "Original Array:  [1 2 3 4 5]\n",
      "[10  2  3  4  5]\n",
      "\n",
      "Copy Array:  [10  2  3  4  5]\n",
      "[11  2  3  4  5]\n"
     ]
    }
   ],
   "source": [
    "import numpy as np\n",
    "arr = np.array([1,2,3,4,5])\n",
    "print(\"Original Array: \",arr)\n",
    "\n",
    "arr[0]=10\n",
    "print(arr)\n",
    "print()\n",
    "\n",
    "x=arr.copy()\n",
    "print(\"Copy Array: \",x)\n",
    "\n",
    "x[0]=11\n",
    "print(x)"
   ]
  },
  {
   "cell_type": "code",
   "execution_count": 11,
   "id": "30873fcc",
   "metadata": {},
   "outputs": [
    {
     "name": "stdout",
     "output_type": "stream",
     "text": [
      "Original Array:  [1 2 3 4 5]\n",
      "Viewed Array:  [1 2 3 4 5]\n",
      "[10  2  3  4  5]\n",
      "[10  2  3  4  5]\n"
     ]
    }
   ],
   "source": [
    "import numpy as np\n",
    "arr = np.array([1,2,3,4,5])\n",
    "print(\"Original Array: \",arr)\n",
    "\n",
    "y=arr.view()\n",
    "print(\"Viewed Array: \",y)\n",
    "\n",
    "arr[0]=10\n",
    "print(arr)\n",
    "print(y)"
   ]
  },
  {
   "cell_type": "markdown",
   "id": "aef35920",
   "metadata": {},
   "source": [
    "# RESHAPE FUNCTION"
   ]
  },
  {
   "cell_type": "markdown",
   "id": "dbdc0b96",
   "metadata": {},
   "source": [
    "RESHAPE MEANS CHANGING THE SHAPE OF AN ARRAY OR CHANGING THE NUMBER OF ROWS AND COLUMNS"
   ]
  },
  {
   "cell_type": "code",
   "execution_count": 20,
   "id": "98b11945",
   "metadata": {},
   "outputs": [
    {
     "name": "stdout",
     "output_type": "stream",
     "text": [
      "Original Array:  [ 1  2  3  4  5  6  7  8  9 10]\n",
      "2-D Array with shape 5x2\n",
      "[[ 1  2]\n",
      " [ 3  4]\n",
      " [ 5  6]\n",
      " [ 7  8]\n",
      " [ 9 10]]\n",
      "2-D Array with shape 2x5\n",
      "[[ 1  2  3  4  5]\n",
      " [ 6  7  8  9 10]]\n",
      "3-D Arrat with shape 1x2x5\n",
      "[[[ 1  2  3  4  5]\n",
      "  [ 6  7  8  9 10]]]\n",
      "3-D Arrat with shape 2x1x5\n",
      "[[[ 1  2  3  4  5]]\n",
      "\n",
      " [[ 6  7  8  9 10]]]\n"
     ]
    }
   ],
   "source": [
    "import numpy as np\n",
    "arr = np.array([1,2,3,4,5,6,7,8,9,10])\n",
    "print(\"Original Array: \",arr) #1-D Array    \n",
    "print()\n",
    "\n",
    "#2-D Array\n",
    "b= arr.reshape(5,2)\n",
    "print(\"2-D Array with shape 5x2\")\n",
    "print(b)\n",
    "\n",
    "c= arr.reshape(2,5)\n",
    "print(\"2-D Array with shape 2x5\")\n",
    "print(c)\n",
    "\n",
    "#3-D Array\n",
    "d=arr.reshape(1,2,5)\n",
    "print(\"3-D Arrat with shape 1x2x5\")\n",
    "print(d)\n",
    "\n",
    "d=arr.reshape(2,1,5)\n",
    "print(\"3-D Arrat with shape 2x1x5\")\n",
    "print(d)"
   ]
  },
  {
   "cell_type": "markdown",
   "id": "73b51553",
   "metadata": {},
   "source": [
    "# ARRAY AGGREGATION FUNCTION"
   ]
  },
  {
   "cell_type": "markdown",
   "id": "bc2e0997",
   "metadata": {},
   "source": [
    "# SUM()"
   ]
  },
  {
   "cell_type": "code",
   "execution_count": 35,
   "id": "db2b80fb",
   "metadata": {},
   "outputs": [
    {
     "name": "stdout",
     "output_type": "stream",
     "text": [
      "[[[ 1  2  3  4  5]\n",
      "  [ 6  7  8  9 10]]\n",
      "\n",
      " [[ 1  1  1  1  1]\n",
      "  [ 1  1  1  1  1]]]\n",
      "\n",
      " 65\n"
     ]
    }
   ],
   "source": [
    "import numpy as np\n",
    "arr = np.array([\n",
    "    [[1,2,3,4,5],[6,7,8,9,10]],\n",
    "    [[1,1,1,1,1],[1,1,1,1,1]]\n",
    "         ])\n",
    "print(arr)\n",
    "#a = arr.sum()\n",
    "print(\"\\n\",np.sum(arr))"
   ]
  },
  {
   "cell_type": "code",
   "execution_count": 46,
   "id": "383963ba",
   "metadata": {},
   "outputs": [
    {
     "name": "stdout",
     "output_type": "stream",
     "text": [
      "[[ 1  2  3  4  5]\n",
      " [ 6  7  8  9 10]]\n",
      "\n",
      " Accross Rows:\n",
      "[ 7  9 11 13 15]\n",
      "\n",
      "Across Columns:\n",
      "[15 40]\n"
     ]
    }
   ],
   "source": [
    "#np.sum(array_name , axis =0 or 1)\n",
    "import numpy as np\n",
    "arr = np.array([[1,2,3,4,5],[6,7,8,9,10]])\n",
    "print(arr)\n",
    "\n",
    "print(\"\\n Accross Rows:\")  #Means adding in columns\n",
    "print(np.sum(arr, axis=0))\n",
    "\n",
    "print(\"\\nAcross Columns:\")#Means adding in rows\n",
    "print(np.sum(arr, axis=1))    "
   ]
  },
  {
   "cell_type": "markdown",
   "id": "3bee2de0",
   "metadata": {},
   "source": [
    "# MEAN()"
   ]
  },
  {
   "cell_type": "code",
   "execution_count": 41,
   "id": "866e9765",
   "metadata": {},
   "outputs": [
    {
     "name": "stdout",
     "output_type": "stream",
     "text": [
      "[[ 1  2  3  4  5]\n",
      " [ 6  7  8  9 10]]\n",
      "5.5\n"
     ]
    }
   ],
   "source": [
    "import numpy as np\n",
    "arr = np.array([[1,2,3,4,5],[6,7,8,9,10]])\n",
    "print(arr)\n",
    "print(np.mean(arr)) #Here , it means addition of arrays/No. of Elements"
   ]
  },
  {
   "cell_type": "code",
   "execution_count": 44,
   "id": "1ba46133",
   "metadata": {},
   "outputs": [
    {
     "name": "stdout",
     "output_type": "stream",
     "text": [
      "[[ 1  2  3  4  5]\n",
      " [ 6  7  8  9 10]]\n",
      "\n",
      " Accross Rows\n",
      "[3.5 4.5 5.5 6.5 7.5]\n",
      "\n",
      " Accross Columns\n",
      "[3. 8.]\n"
     ]
    }
   ],
   "source": [
    "import numpy as np\n",
    "arr = np.array([[1,2,3,4,5],[6,7,8,9,10]])\n",
    "print(arr)\n",
    "print(\"\\n Accross Rows\")\n",
    "print(np.mean(arr , axis=0))\n",
    "print(\"\\n Accross Columns\")\n",
    "print(np.mean(arr , axis =1))"
   ]
  },
  {
   "cell_type": "markdown",
   "id": "9892312c",
   "metadata": {},
   "source": [
    "# STANDARD DEVIATION"
   ]
  },
  {
   "cell_type": "code",
   "execution_count": 51,
   "id": "410dd897",
   "metadata": {},
   "outputs": [
    {
     "name": "stdout",
     "output_type": "stream",
     "text": [
      "[[ 1  2  3  4  5]\n",
      " [ 6  7  8  9 10]]\n",
      "2.8722813232690143\n"
     ]
    }
   ],
   "source": [
    "import numpy as np\n",
    "arr = np.array([[1,2,3,4,5],[6,7,8,9,10]])\n",
    "print(arr)\n",
    "print(np.std(arr))"
   ]
  },
  {
   "cell_type": "code",
   "execution_count": 54,
   "id": "065daf14",
   "metadata": {},
   "outputs": [
    {
     "name": "stdout",
     "output_type": "stream",
     "text": [
      "[[ 1  2  3  4  5]\n",
      " [ 6  7  8  9 10]]\n",
      "\n",
      " Accross Rows\n",
      "[2.5 2.5 2.5 2.5 2.5]\n",
      "\n",
      " Accross Columns\n",
      "[1.41421356 1.41421356]\n"
     ]
    }
   ],
   "source": [
    "import numpy as np\n",
    "arr = np.array([[1,2,3,4,5],[6,7,8,9,10]])\n",
    "print(arr)\n",
    "print(\"\\n Accross Rows\")\n",
    "print(np.std(arr , axis=0))\n",
    "\n",
    "print(\"\\n Accross Columns\")\n",
    "print(np.std(arr  , axis = 1))"
   ]
  },
  {
   "cell_type": "markdown",
   "id": "614d6c26",
   "metadata": {},
   "source": [
    "# VARIANCE()"
   ]
  },
  {
   "cell_type": "code",
   "execution_count": 55,
   "id": "0a2b4238",
   "metadata": {},
   "outputs": [
    {
     "name": "stdout",
     "output_type": "stream",
     "text": [
      "[[ 1  2  3  4  5]\n",
      " [ 6  7  8  9 10]]\n",
      "8.25\n"
     ]
    }
   ],
   "source": [
    "import numpy as np\n",
    "arr = np.array([[1,2,3,4,5],[6,7,8,9,10]])\n",
    "print(arr)\n",
    "print(np.var(arr))"
   ]
  },
  {
   "cell_type": "code",
   "execution_count": 61,
   "id": "13a149b4",
   "metadata": {},
   "outputs": [
    {
     "name": "stdout",
     "output_type": "stream",
     "text": [
      "[[ 1  2  3  4  5]\n",
      " [ 6  7  8  9 10]]\n",
      "\n",
      " Accross Rows:\n",
      "[6.25 6.25 6.25 6.25 6.25]\n",
      "\n",
      "Across Columns:\n",
      "[2. 2.]\n"
     ]
    }
   ],
   "source": [
    "import numpy as np\n",
    "arr = np.array([[1,2,3,4,5],[6,7,8,9,10]])\n",
    "print(arr)\n",
    "print(\"\\n Accross Rows:\")  #Means adding in columns\n",
    "print(np.var(arr,axis=0))\n",
    "print(\"\\nAcross Columns:\")#Means adding in rows\n",
    "print(np.var(arr,axis=1))"
   ]
  },
  {
   "cell_type": "markdown",
   "id": "81701103",
   "metadata": {},
   "source": [
    "# Minimum()"
   ]
  },
  {
   "cell_type": "code",
   "execution_count": 63,
   "id": "ce86f8d8",
   "metadata": {},
   "outputs": [
    {
     "name": "stdout",
     "output_type": "stream",
     "text": [
      "[[ 1  2  3  4  5]\n",
      " [ 6  7  8  9 10]]\n",
      "1\n"
     ]
    }
   ],
   "source": [
    "import numpy as np\n",
    "arr = np.array([[1,2,3,4,5],[6,7,8,9,10]])\n",
    "print(arr)\n",
    "print(np.min(arr))"
   ]
  },
  {
   "cell_type": "code",
   "execution_count": 64,
   "id": "72cca0ae",
   "metadata": {},
   "outputs": [
    {
     "name": "stdout",
     "output_type": "stream",
     "text": [
      "[[ 1  2  3  4  5]\n",
      " [ 6  7  8  9 10]]\n",
      "\n",
      " Accross Rows:\n",
      "[1 2 3 4 5]\n",
      "\n",
      "Across Columns:\n",
      "[1 6]\n"
     ]
    }
   ],
   "source": [
    "import numpy as np\n",
    "arr = np.array([[1,2,3,4,5],[6,7,8,9,10]])\n",
    "print(arr)\n",
    "print(\"\\n Accross Rows:\")  #Means adding in columns\n",
    "print(np.min(arr,axis=0))\n",
    "print(\"\\nAcross Columns:\")#Means adding in rows\n",
    "print(np.min(arr,axis=1))"
   ]
  },
  {
   "cell_type": "markdown",
   "id": "3212b1c9",
   "metadata": {},
   "source": [
    "# MAXIMUM()"
   ]
  },
  {
   "cell_type": "code",
   "execution_count": 65,
   "id": "51343d22",
   "metadata": {},
   "outputs": [
    {
     "name": "stdout",
     "output_type": "stream",
     "text": [
      "[[ 1  2  3  4  5]\n",
      " [ 6  7  8  9 10]]\n",
      "10\n"
     ]
    }
   ],
   "source": [
    "import numpy as np\n",
    "arr = np.array([[1,2,3,4,5],[6,7,8,9,10]])\n",
    "print(arr)\n",
    "print(np.max(arr))"
   ]
  },
  {
   "cell_type": "code",
   "execution_count": 66,
   "id": "e67eae7d",
   "metadata": {},
   "outputs": [
    {
     "name": "stdout",
     "output_type": "stream",
     "text": [
      "[[ 1  2  3  4  5]\n",
      " [ 6  7  8  9 10]]\n",
      "\n",
      " Accross Rows:\n",
      "[ 6  7  8  9 10]\n",
      "\n",
      "Across Columns:\n",
      "[ 5 10]\n"
     ]
    }
   ],
   "source": [
    "import numpy as np\n",
    "arr = np.array([[1,2,3,4,5],[6,7,8,9,10]])\n",
    "print(arr)\n",
    "print(\"\\n Accross Rows:\")  #Means adding in columns\n",
    "print(np.max(arr,axis=0))\n",
    "print(\"\\nAcross Columns:\")#Means adding in rows\n",
    "print(np.max(arr,axis=1))"
   ]
  },
  {
   "cell_type": "code",
   "execution_count": null,
   "id": "8dcb9de3",
   "metadata": {},
   "outputs": [],
   "source": []
  }
 ],
 "metadata": {
  "kernelspec": {
   "display_name": "Python 3 (ipykernel)",
   "language": "python",
   "name": "python3"
  },
  "language_info": {
   "codemirror_mode": {
    "name": "ipython",
    "version": 3
   },
   "file_extension": ".py",
   "mimetype": "text/x-python",
   "name": "python",
   "nbconvert_exporter": "python",
   "pygments_lexer": "ipython3",
   "version": "3.9.12"
  }
 },
 "nbformat": 4,
 "nbformat_minor": 5
}
