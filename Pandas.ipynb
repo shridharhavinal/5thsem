{
 "cells": [
  {
   "cell_type": "markdown",
   "id": "8769938e",
   "metadata": {},
   "source": [
    "# PANDAS SERIES"
   ]
  },
  {
   "cell_type": "markdown",
   "id": "70474ffb",
   "metadata": {},
   "source": [
    "Series is one-dimensional labelled array capable of holding data of any type(int,string ,float,python objects,etc),The axis labels are collectively called index"
   ]
  },
  {
   "cell_type": "markdown",
   "id": "4b3257b0",
   "metadata": {},
   "source": [
    "Series is nothing but a column in a excelSheet\n",
    "#Syntax: pd.Series(data , index , dtype , copy)"
   ]
  },
  {
   "cell_type": "code",
   "execution_count": 1,
   "id": "23346bc0",
   "metadata": {},
   "outputs": [
    {
     "name": "stdout",
     "output_type": "stream",
     "text": [
      "0    1\n",
      "1    2\n",
      "2    3\n",
      "3    4\n",
      "4    5\n",
      "dtype: int64\n",
      "0    a\n",
      "1    b\n",
      "2    c\n",
      "3    d\n",
      "4    e\n",
      "dtype: object\n"
     ]
    }
   ],
   "source": [
    "import numpy as np\n",
    "import pandas as pd\n",
    "ser1 = pd.Series([1,2,3,4,5])\n",
    "print(ser1)\n",
    "ser2 = pd.Series(['a','b','c','d','e'])\n",
    "print(ser2)"
   ]
  },
  {
   "cell_type": "code",
   "execution_count": 4,
   "id": "78a326f7",
   "metadata": {},
   "outputs": [
    {
     "name": "stdout",
     "output_type": "stream",
     "text": [
      "0    1.0\n",
      "1    2.0\n",
      "2    3.0\n",
      "3    4.0\n",
      "4    5.0\n",
      "dtype: float64\n"
     ]
    }
   ],
   "source": [
    "import numpy as np\n",
    "import pandas as pd\n",
    "ser1 = pd.Series([1,2,3,4,5],dtype=\"float64\")\n",
    "print(ser1)\n"
   ]
  },
  {
   "cell_type": "code",
   "execution_count": 6,
   "id": "a197ff3f",
   "metadata": {},
   "outputs": [
    {
     "name": "stdout",
     "output_type": "stream",
     "text": [
      "a    1\n",
      "b    2\n",
      "c    3\n",
      "d    4\n",
      "e    5\n",
      "dtype: int64\n"
     ]
    }
   ],
   "source": [
    "import numpy as np\n",
    "import pandas as pd\n",
    "ser1 = pd.Series([1,2,3,4,5],index=[\"a\",\"b\",\"c\",\"d\",\"e\"])\n",
    "print(ser1)"
   ]
  },
  {
   "cell_type": "code",
   "execution_count": 9,
   "id": "b672d823",
   "metadata": {},
   "outputs": [
    {
     "name": "stdout",
     "output_type": "stream",
     "text": [
      "a    1\n",
      "b    2\n",
      "c    3\n",
      "d    4\n",
      "e    5\n",
      "dtype: int64\n"
     ]
    }
   ],
   "source": [
    "import numpy as np\n",
    "import pandas as pd\n",
    "i=pd.Index([\"a\",\"b\",\"c\",\"d\",\"e\"])\n",
    "ser1 = pd.Series([1,2,3,4,5],index=i)\n",
    "print(ser1)"
   ]
  },
  {
   "cell_type": "markdown",
   "id": "84ceee85",
   "metadata": {},
   "source": [
    "CREATING SERIES USING DICTIONARY"
   ]
  },
  {
   "cell_type": "code",
   "execution_count": 10,
   "id": "0626c6ed",
   "metadata": {},
   "outputs": [
    {
     "name": "stdout",
     "output_type": "stream",
     "text": [
      "Rohit      40\n",
      "KL         23\n",
      "Virat     100\n",
      "Panth      12\n",
      "Chahal      2\n",
      "dtype: int64\n"
     ]
    }
   ],
   "source": [
    "import numpy as np\n",
    "import pandas as pd\n",
    "ser1 = pd.Series({\"Rohit\":40,\"KL\":23,\"Virat\":100,\"Panth\":12,\"Chahal\":2})\n",
    "print(ser1)\n"
   ]
  },
  {
   "cell_type": "markdown",
   "id": "c35ca652",
   "metadata": {},
   "source": [
    "# DATAFRAMES"
   ]
  },
  {
   "cell_type": "markdown",
   "id": "cad81d3a",
   "metadata": {},
   "source": [
    "DATAFRAME IS A COLLECTION OF MULTIPLE SERIES"
   ]
  },
  {
   "cell_type": "markdown",
   "id": "6db37e3e",
   "metadata": {},
   "source": [
    "#pd.DataFrame(array_name , index , columns )"
   ]
  },
  {
   "cell_type": "code",
   "execution_count": 3,
   "id": "7cf32cd0",
   "metadata": {},
   "outputs": [
    {
     "name": "stdout",
     "output_type": "stream",
     "text": [
      "[[0 1 2]\n",
      " [3 4 5]\n",
      " [6 7 8]]\n",
      "   A  B  C\n",
      "a  0  1  2\n",
      "b  3  4  5\n",
      "c  6  7  8\n"
     ]
    }
   ],
   "source": [
    "import numpy as np\n",
    "import pandas as pd\n",
    "arr = np.arange(0,9).reshape(3,3)\n",
    "print(arr)      #Numpy Array\n",
    "df = pd.DataFrame(arr , index=['a','b','c'], columns=['A','B','C'])\n",
    "print(df)       #Pandas DataFrame"
   ]
  },
  {
   "cell_type": "code",
   "execution_count": 47,
   "id": "22886798",
   "metadata": {},
   "outputs": [
    {
     "name": "stdout",
     "output_type": "stream",
     "text": [
      "        Abhinav  Harshad  Gururaj\n",
      "OSA          19       16       20\n",
      "PYTHON       20       16       12\n",
      "JAVA         18       14       13\n",
      "SE           16       14       15\n"
     ]
    }
   ],
   "source": [
    "#A single array stores marks of one student in every subject\n",
    "import numpy as np\n",
    "import pandas as pd\n",
    "df = pd.DataFrame([[19,20,18,16],[16,16,14,14],[20,12,13,15]], index=['Abhinav','Harshad','Gururaj'], columns=['OSA','PYTHON','JAVA','SE'])\n",
    "print(df)"
   ]
  },
  {
   "cell_type": "code",
   "execution_count": 7,
   "id": "2da9628b",
   "metadata": {},
   "outputs": [
    {
     "name": "stdout",
     "output_type": "stream",
     "text": [
      "   Osa  Python  Java  SE\n",
      "1   23      12    17  12\n",
      "2   20      20    20  10\n",
      "3   19      32    18  18\n",
      "4   25      24    15   3\n"
     ]
    }
   ],
   "source": [
    "#Here, Dictionary in Dataframe ,Single arrays stores marks of every student in one subject\n",
    "import numpy as np\n",
    "import pandas as pd\n",
    "df = pd.DataFrame({\"Osa\":[23,20,19,25],\"Python\":[12,20,32,24],\"Java\":[17,20,18,15],\"SE\":[12,10,18,3]}\n",
    "                 ,index=[1,2,3,4]\n",
    "                 )\n",
    "print(df)"
   ]
  },
  {
   "cell_type": "code",
   "execution_count": 5,
   "id": "26d97607",
   "metadata": {},
   "outputs": [
    {
     "ename": "ValueError",
     "evalue": "All arrays must be of the same length",
     "output_type": "error",
     "traceback": [
      "\u001b[1;31m---------------------------------------------------------------------------\u001b[0m",
      "\u001b[1;31mValueError\u001b[0m                                Traceback (most recent call last)",
      "Input \u001b[1;32mIn [5]\u001b[0m, in \u001b[0;36m<cell line: 4>\u001b[1;34m()\u001b[0m\n\u001b[0;32m      2\u001b[0m \u001b[38;5;28;01mimport\u001b[39;00m \u001b[38;5;21;01mpandas\u001b[39;00m \u001b[38;5;28;01mas\u001b[39;00m \u001b[38;5;21;01mpd\u001b[39;00m\n\u001b[0;32m      3\u001b[0m \u001b[38;5;66;03m#Error : All arrays must be of same length\u001b[39;00m\n\u001b[1;32m----> 4\u001b[0m df \u001b[38;5;241m=\u001b[39m \u001b[43mpd\u001b[49m\u001b[38;5;241;43m.\u001b[39;49m\u001b[43mDataFrame\u001b[49m\u001b[43m(\u001b[49m\u001b[43m{\u001b[49m\u001b[38;5;124;43m\"\u001b[39;49m\u001b[38;5;124;43mOsa\u001b[39;49m\u001b[38;5;124;43m\"\u001b[39;49m\u001b[43m:\u001b[49m\u001b[43m[\u001b[49m\u001b[38;5;241;43m23\u001b[39;49m\u001b[43m,\u001b[49m\u001b[38;5;241;43m20\u001b[39;49m\u001b[43m,\u001b[49m\u001b[38;5;241;43m19\u001b[39;49m\u001b[43m,\u001b[49m\u001b[38;5;241;43m25\u001b[39;49m\u001b[43m]\u001b[49m\u001b[43m,\u001b[49m\u001b[38;5;124;43m\"\u001b[39;49m\u001b[38;5;124;43mPython\u001b[39;49m\u001b[38;5;124;43m\"\u001b[39;49m\u001b[43m:\u001b[49m\u001b[43m[\u001b[49m\u001b[38;5;241;43m12\u001b[39;49m\u001b[43m,\u001b[49m\u001b[38;5;241;43m20\u001b[39;49m\u001b[43m,\u001b[49m\u001b[38;5;241;43m32\u001b[39;49m\u001b[43m]\u001b[49m\u001b[43m}\u001b[49m\u001b[43m)\u001b[49m\n\u001b[0;32m      5\u001b[0m \u001b[38;5;28mprint\u001b[39m(df)\n",
      "File \u001b[1;32m~\\anaconda3\\lib\\site-packages\\pandas\\core\\frame.py:636\u001b[0m, in \u001b[0;36mDataFrame.__init__\u001b[1;34m(self, data, index, columns, dtype, copy)\u001b[0m\n\u001b[0;32m    630\u001b[0m     mgr \u001b[38;5;241m=\u001b[39m \u001b[38;5;28mself\u001b[39m\u001b[38;5;241m.\u001b[39m_init_mgr(\n\u001b[0;32m    631\u001b[0m         data, axes\u001b[38;5;241m=\u001b[39m{\u001b[38;5;124m\"\u001b[39m\u001b[38;5;124mindex\u001b[39m\u001b[38;5;124m\"\u001b[39m: index, \u001b[38;5;124m\"\u001b[39m\u001b[38;5;124mcolumns\u001b[39m\u001b[38;5;124m\"\u001b[39m: columns}, dtype\u001b[38;5;241m=\u001b[39mdtype, copy\u001b[38;5;241m=\u001b[39mcopy\n\u001b[0;32m    632\u001b[0m     )\n\u001b[0;32m    634\u001b[0m \u001b[38;5;28;01melif\u001b[39;00m \u001b[38;5;28misinstance\u001b[39m(data, \u001b[38;5;28mdict\u001b[39m):\n\u001b[0;32m    635\u001b[0m     \u001b[38;5;66;03m# GH#38939 de facto copy defaults to False only in non-dict cases\u001b[39;00m\n\u001b[1;32m--> 636\u001b[0m     mgr \u001b[38;5;241m=\u001b[39m \u001b[43mdict_to_mgr\u001b[49m\u001b[43m(\u001b[49m\u001b[43mdata\u001b[49m\u001b[43m,\u001b[49m\u001b[43m \u001b[49m\u001b[43mindex\u001b[49m\u001b[43m,\u001b[49m\u001b[43m \u001b[49m\u001b[43mcolumns\u001b[49m\u001b[43m,\u001b[49m\u001b[43m \u001b[49m\u001b[43mdtype\u001b[49m\u001b[38;5;241;43m=\u001b[39;49m\u001b[43mdtype\u001b[49m\u001b[43m,\u001b[49m\u001b[43m \u001b[49m\u001b[43mcopy\u001b[49m\u001b[38;5;241;43m=\u001b[39;49m\u001b[43mcopy\u001b[49m\u001b[43m,\u001b[49m\u001b[43m \u001b[49m\u001b[43mtyp\u001b[49m\u001b[38;5;241;43m=\u001b[39;49m\u001b[43mmanager\u001b[49m\u001b[43m)\u001b[49m\n\u001b[0;32m    637\u001b[0m \u001b[38;5;28;01melif\u001b[39;00m \u001b[38;5;28misinstance\u001b[39m(data, ma\u001b[38;5;241m.\u001b[39mMaskedArray):\n\u001b[0;32m    638\u001b[0m     \u001b[38;5;28;01mimport\u001b[39;00m \u001b[38;5;21;01mnumpy\u001b[39;00m\u001b[38;5;21;01m.\u001b[39;00m\u001b[38;5;21;01mma\u001b[39;00m\u001b[38;5;21;01m.\u001b[39;00m\u001b[38;5;21;01mmrecords\u001b[39;00m \u001b[38;5;28;01mas\u001b[39;00m \u001b[38;5;21;01mmrecords\u001b[39;00m\n",
      "File \u001b[1;32m~\\anaconda3\\lib\\site-packages\\pandas\\core\\internals\\construction.py:502\u001b[0m, in \u001b[0;36mdict_to_mgr\u001b[1;34m(data, index, columns, dtype, typ, copy)\u001b[0m\n\u001b[0;32m    494\u001b[0m     arrays \u001b[38;5;241m=\u001b[39m [\n\u001b[0;32m    495\u001b[0m         x\n\u001b[0;32m    496\u001b[0m         \u001b[38;5;28;01mif\u001b[39;00m \u001b[38;5;129;01mnot\u001b[39;00m \u001b[38;5;28mhasattr\u001b[39m(x, \u001b[38;5;124m\"\u001b[39m\u001b[38;5;124mdtype\u001b[39m\u001b[38;5;124m\"\u001b[39m) \u001b[38;5;129;01mor\u001b[39;00m \u001b[38;5;129;01mnot\u001b[39;00m \u001b[38;5;28misinstance\u001b[39m(x\u001b[38;5;241m.\u001b[39mdtype, ExtensionDtype)\n\u001b[0;32m    497\u001b[0m         \u001b[38;5;28;01melse\u001b[39;00m x\u001b[38;5;241m.\u001b[39mcopy()\n\u001b[0;32m    498\u001b[0m         \u001b[38;5;28;01mfor\u001b[39;00m x \u001b[38;5;129;01min\u001b[39;00m arrays\n\u001b[0;32m    499\u001b[0m     ]\n\u001b[0;32m    500\u001b[0m     \u001b[38;5;66;03m# TODO: can we get rid of the dt64tz special case above?\u001b[39;00m\n\u001b[1;32m--> 502\u001b[0m \u001b[38;5;28;01mreturn\u001b[39;00m \u001b[43marrays_to_mgr\u001b[49m\u001b[43m(\u001b[49m\u001b[43marrays\u001b[49m\u001b[43m,\u001b[49m\u001b[43m \u001b[49m\u001b[43mcolumns\u001b[49m\u001b[43m,\u001b[49m\u001b[43m \u001b[49m\u001b[43mindex\u001b[49m\u001b[43m,\u001b[49m\u001b[43m \u001b[49m\u001b[43mdtype\u001b[49m\u001b[38;5;241;43m=\u001b[39;49m\u001b[43mdtype\u001b[49m\u001b[43m,\u001b[49m\u001b[43m \u001b[49m\u001b[43mtyp\u001b[49m\u001b[38;5;241;43m=\u001b[39;49m\u001b[43mtyp\u001b[49m\u001b[43m,\u001b[49m\u001b[43m \u001b[49m\u001b[43mconsolidate\u001b[49m\u001b[38;5;241;43m=\u001b[39;49m\u001b[43mcopy\u001b[49m\u001b[43m)\u001b[49m\n",
      "File \u001b[1;32m~\\anaconda3\\lib\\site-packages\\pandas\\core\\internals\\construction.py:120\u001b[0m, in \u001b[0;36marrays_to_mgr\u001b[1;34m(arrays, columns, index, dtype, verify_integrity, typ, consolidate)\u001b[0m\n\u001b[0;32m    117\u001b[0m \u001b[38;5;28;01mif\u001b[39;00m verify_integrity:\n\u001b[0;32m    118\u001b[0m     \u001b[38;5;66;03m# figure out the index, if necessary\u001b[39;00m\n\u001b[0;32m    119\u001b[0m     \u001b[38;5;28;01mif\u001b[39;00m index \u001b[38;5;129;01mis\u001b[39;00m \u001b[38;5;28;01mNone\u001b[39;00m:\n\u001b[1;32m--> 120\u001b[0m         index \u001b[38;5;241m=\u001b[39m \u001b[43m_extract_index\u001b[49m\u001b[43m(\u001b[49m\u001b[43marrays\u001b[49m\u001b[43m)\u001b[49m\n\u001b[0;32m    121\u001b[0m     \u001b[38;5;28;01melse\u001b[39;00m:\n\u001b[0;32m    122\u001b[0m         index \u001b[38;5;241m=\u001b[39m ensure_index(index)\n",
      "File \u001b[1;32m~\\anaconda3\\lib\\site-packages\\pandas\\core\\internals\\construction.py:674\u001b[0m, in \u001b[0;36m_extract_index\u001b[1;34m(data)\u001b[0m\n\u001b[0;32m    672\u001b[0m lengths \u001b[38;5;241m=\u001b[39m \u001b[38;5;28mlist\u001b[39m(\u001b[38;5;28mset\u001b[39m(raw_lengths))\n\u001b[0;32m    673\u001b[0m \u001b[38;5;28;01mif\u001b[39;00m \u001b[38;5;28mlen\u001b[39m(lengths) \u001b[38;5;241m>\u001b[39m \u001b[38;5;241m1\u001b[39m:\n\u001b[1;32m--> 674\u001b[0m     \u001b[38;5;28;01mraise\u001b[39;00m \u001b[38;5;167;01mValueError\u001b[39;00m(\u001b[38;5;124m\"\u001b[39m\u001b[38;5;124mAll arrays must be of the same length\u001b[39m\u001b[38;5;124m\"\u001b[39m)\n\u001b[0;32m    676\u001b[0m \u001b[38;5;28;01mif\u001b[39;00m have_dicts:\n\u001b[0;32m    677\u001b[0m     \u001b[38;5;28;01mraise\u001b[39;00m \u001b[38;5;167;01mValueError\u001b[39;00m(\n\u001b[0;32m    678\u001b[0m         \u001b[38;5;124m\"\u001b[39m\u001b[38;5;124mMixing dicts with non-Series may lead to ambiguous ordering.\u001b[39m\u001b[38;5;124m\"\u001b[39m\n\u001b[0;32m    679\u001b[0m     )\n",
      "\u001b[1;31mValueError\u001b[0m: All arrays must be of the same length"
     ]
    }
   ],
   "source": [
    "import numpy as np\n",
    "import pandas as pd\n",
    "#Error : All arrays must be of same length\n",
    "df = pd.DataFrame({\"Osa\":[23,20,19,25],\"Python\":[12,20,32]})\n",
    "print(df)\n"
   ]
  },
  {
   "cell_type": "code",
   "execution_count": 41,
   "id": "6d038273",
   "metadata": {},
   "outputs": [
    {
     "name": "stdout",
     "output_type": "stream",
     "text": [
      "    OSA  Python\n",
      "0  22.0      17\n",
      "1  10.0      17\n",
      "2  13.0      18\n",
      "3   NaN      16\n"
     ]
    }
   ],
   "source": [
    "import pandas as pd\n",
    "ser1=pd.Series([22,10,13]) #Take index in Series\n",
    "ser2=pd.Series([17,17,18,16])\n",
    "df = pd.DataFrame({\"OSA\":ser1,\"Python\":ser2})#Dont take index in dictionary dataframe\n",
    "print(df)"
   ]
  },
  {
   "cell_type": "markdown",
   "id": "debeca24",
   "metadata": {},
   "source": [
    "# CREATE DATAFRAME CONTAINING INFORMATION ABOUT CITIES"
   ]
  },
  {
   "cell_type": "markdown",
   "id": "8eb1e221",
   "metadata": {},
   "source": [
    "Possibilities of Creating Dataframe through Multiple series"
   ]
  },
  {
   "cell_type": "markdown",
   "id": "5a358e41",
   "metadata": {},
   "source": [
    "1.Normal Series"
   ]
  },
  {
   "cell_type": "markdown",
   "id": "a0031efe",
   "metadata": {},
   "source": [
    "2.Transpose Series"
   ]
  },
  {
   "cell_type": "markdown",
   "id": "e76705b2",
   "metadata": {},
   "source": [
    "3.Dictionary Series(key == Heading , values == series)(Dont need to give name in series)"
   ]
  },
  {
   "cell_type": "markdown",
   "id": "f9cab8a1",
   "metadata": {},
   "source": [
    "4.2-d Array (Here,a single array consists of pop and cap of one state)"
   ]
  },
  {
   "cell_type": "code",
   "execution_count": 69,
   "id": "3cfbd9e5",
   "metadata": {},
   "outputs": [
    {
     "name": "stdout",
     "output_type": "stream",
     "text": [
      "            Population      Capital Pin Code\n",
      "Karnataka          7.1    Bangalore  586 101\n",
      "Maharashtra       12.4       Mumbai  392 479\n",
      "Gujarat            8.9  Gandhinagar  123 456\n"
     ]
    }
   ],
   "source": [
    "import numpy as np\n",
    "import pandas as pd\n",
    "i = pd.Index([\"Karnataka\",\"Maharashtra\",\"Gujarat\"])\n",
    "#print(i)\n",
    "pop=pd.Series(['7.1','12.4','8.9'],index=i,name=\"Population\")\n",
    "#print(pop)\n",
    "cap=pd.Series([\"Bangalore\",\"Mumbai\",\"Gandhinagar\"],index=i,name=\"Capital\")\n",
    "#print(cap)\n",
    "#pin = pd.Series([\"586 101\",\"392 479\",\"123 456\"],index = i , name = \"Pin Code\")\n",
    "#df = pd.DataFrame([pop,cap])\n",
    "#df = pd.DataFrame([pop,cap,pin]).T\n",
    "df = pd.DataFrame([[\"7.1\",\"Bangalore\"],[\"12.4\",\"Mumbai\"],[\"8.9\",\"Gandinagar\"]],index=i,columns=[\"Population\",\"Capital\"])\n",
    "#df =pd.DataFrame({\"Population\":pop,\"Capital\":cap,\"PinCode\":pin})\n",
    "print(df)"
   ]
  },
  {
   "cell_type": "markdown",
   "id": "1663ed75",
   "metadata": {},
   "source": [
    "# How to Add new data to a series"
   ]
  },
  {
   "cell_type": "code",
   "execution_count": 71,
   "id": "9f309256",
   "metadata": {},
   "outputs": [
    {
     "name": "stderr",
     "output_type": "stream",
     "text": [
      "C:\\Users\\CS-L2-PC10\\AppData\\Local\\Temp\\ipykernel_9704\\3002736247.py:3: FutureWarning: The series.append method is deprecated and will be removed from pandas in a future version. Use pandas.concat instead.\n",
      "  pop.append(pd.Series({\"TamilNadu\":9.8}))\n"
     ]
    },
    {
     "data": {
      "text/plain": [
       "Karnataka       7.1\n",
       "Maharashtra    12.4\n",
       "Gujarat         8.9\n",
       "TamilNadu       9.8\n",
       "dtype: object"
      ]
     },
     "execution_count": 71,
     "metadata": {},
     "output_type": "execute_result"
    }
   ],
   "source": [
    "import numpy as np\n",
    "import pandas as pd\n",
    "pop=pd.Series(['7.1','12.4','8.9'],index=i,name=\"Population\")\n",
    "pop.append(pd.Series({\"TamilNadu\":9.8}))\n",
    "#print(pop)"
   ]
  },
  {
   "cell_type": "markdown",
   "id": "3aba339a",
   "metadata": {},
   "source": [
    "METHOD 1"
   ]
  },
  {
   "cell_type": "code",
   "execution_count": 81,
   "id": "dd686f59",
   "metadata": {},
   "outputs": [
    {
     "name": "stdout",
     "output_type": "stream",
     "text": [
      "               Population     Capital\n",
      "Karnataka             7.1   Bangalore\n",
      "Maharashtra          12.4      Mumbai\n",
      "Gujarat               8.9  Gandinagar\n",
      "Tamil Nadu            5.5     Chennai\n",
      "Andhra Pradesh       14.2   Hyderabad\n"
     ]
    },
    {
     "name": "stderr",
     "output_type": "stream",
     "text": [
      "C:\\Users\\CS-L2-PC10\\AppData\\Local\\Temp\\ipykernel_9704\\3235531569.py:5: FutureWarning: The frame.append method is deprecated and will be removed from pandas in a future version. Use pandas.concat instead.\n",
      "  print(df.append(pd.DataFrame([[\"5.5\",\"Chennai\"],[\"14.2\",\"Hyderabad\"]],index=[\"Tamil Nadu\",\"Andhra Pradesh\"],columns=[\"Population\",\"Capital\"])))\n"
     ]
    }
   ],
   "source": [
    "import numpy as np\n",
    "import pandas as pd\n",
    "df = pd.DataFrame([[\"7.1\",\"Bangalore\"],[\"12.4\",\"Mumbai\"],[\"8.9\",\"Gandinagar\"]],index=i,columns=[\"Population\",\"Capital\"])#DataFrame created in one line\n",
    "#print(df)\n",
    "print(df.append(pd.DataFrame([[\"5.5\",\"Chennai\"],[\"14.2\",\"Hyderabad\"]],index=[\"Tamil Nadu\",\"Andhra Pradesh\"],columns=[\"Population\",\"Capital\"])))"
   ]
  },
  {
   "cell_type": "markdown",
   "id": "d5cfa283",
   "metadata": {},
   "source": [
    "METHOD 2"
   ]
  },
  {
   "cell_type": "code",
   "execution_count": 83,
   "id": "104c315b",
   "metadata": {},
   "outputs": [
    {
     "name": "stdout",
     "output_type": "stream",
     "text": [
      "               Population      Capital\n",
      "Karnataka             7.1    Bangalore\n",
      "Maharashtra          12.4       Mumbai\n",
      "Gujarat               8.9  Gandhinagar\n",
      "Tamil Nadu            5.5      Chennai\n",
      "Andhra Pradesh       14.2    Hyderabad\n"
     ]
    },
    {
     "name": "stderr",
     "output_type": "stream",
     "text": [
      "C:\\Users\\CS-L2-PC10\\AppData\\Local\\Temp\\ipykernel_9704\\2891639623.py:8: FutureWarning: The frame.append method is deprecated and will be removed from pandas in a future version. Use pandas.concat instead.\n",
      "  print(df.append(pd.DataFrame({\"Population\":pd.Series([5.5,14.2],index=[\"Tamil Nadu\",\"Andhra Pradesh\"]),\n"
     ]
    }
   ],
   "source": [
    "import numpy as np\n",
    "import pandas as pd\n",
    "i = pd.Index([\"Karnataka\",\"Maharashtra\",\"Gujarat\"])\n",
    "pop=pd.Series(['7.1','12.4','8.9'],index=i,name=\"Population\")\n",
    "cap=pd.Series([\"Bangalore\",\"Mumbai\",\"Gandhinagar\"],index=i,name=\"Capital\")\n",
    "df = pd.DataFrame({\"Population\":pop,\"Capital\":cap})\n",
    "#print(df)\n",
    "print(df.append(pd.DataFrame({\"Population\":pd.Series([5.5,14.2],index=[\"Tamil Nadu\",\"Andhra Pradesh\"]),\n",
    "    \"Capital\":pd.Series({\"Tamil Nadu\":\"Chennai\",\"Andhra Pradesh\":\"Hyderabad\"})\n",
    "    })\n",
    ")\n",
    ")"
   ]
  },
  {
   "cell_type": "markdown",
   "id": "ec8e4278",
   "metadata": {},
   "source": [
    "# CONCAT NEW COLUMN TO DATAFRAME"
   ]
  },
  {
   "cell_type": "code",
   "execution_count": 10,
   "id": "77e29258",
   "metadata": {},
   "outputs": [
    {
     "name": "stdout",
     "output_type": "stream",
     "text": [
      "           population     capital\n",
      "karnataka         7.1   bangalore\n",
      "Maharastra       12.4      Mumbai\n",
      "Gujarat           8.9  Gandinagar\n"
     ]
    },
    {
     "data": {
      "text/html": [
       "<div>\n",
       "<style scoped>\n",
       "    .dataframe tbody tr th:only-of-type {\n",
       "        vertical-align: middle;\n",
       "    }\n",
       "\n",
       "    .dataframe tbody tr th {\n",
       "        vertical-align: top;\n",
       "    }\n",
       "\n",
       "    .dataframe thead th {\n",
       "        text-align: right;\n",
       "    }\n",
       "</style>\n",
       "<table border=\"1\" class=\"dataframe\">\n",
       "  <thead>\n",
       "    <tr style=\"text-align: right;\">\n",
       "      <th></th>\n",
       "      <th>population</th>\n",
       "      <th>capital</th>\n",
       "      <th>Area</th>\n",
       "      <th>cm</th>\n",
       "    </tr>\n",
       "  </thead>\n",
       "  <tbody>\n",
       "    <tr>\n",
       "      <th>karnataka</th>\n",
       "      <td>7.1</td>\n",
       "      <td>bangalore</td>\n",
       "      <td>2.3</td>\n",
       "      <td>bomai</td>\n",
       "    </tr>\n",
       "    <tr>\n",
       "      <th>Maharastra</th>\n",
       "      <td>12.4</td>\n",
       "      <td>Mumbai</td>\n",
       "      <td>2.2</td>\n",
       "      <td>shinde</td>\n",
       "    </tr>\n",
       "    <tr>\n",
       "      <th>Gujarat</th>\n",
       "      <td>8.9</td>\n",
       "      <td>Gandinagar</td>\n",
       "      <td>1.1</td>\n",
       "      <td>xyz</td>\n",
       "    </tr>\n",
       "  </tbody>\n",
       "</table>\n",
       "</div>"
      ],
      "text/plain": [
       "           population     capital Area      cm\n",
       "karnataka         7.1   bangalore  2.3   bomai\n",
       "Maharastra       12.4      Mumbai  2.2  shinde\n",
       "Gujarat           8.9  Gandinagar  1.1     xyz"
      ]
     },
     "execution_count": 10,
     "metadata": {},
     "output_type": "execute_result"
    }
   ],
   "source": [
    "i =pd.Index([\"karnataka\",\"Maharastra\",\"Gujarat\"])\n",
    "pop=pd.Series(['7.1','12.4','8.9'],index=i,name=\"Population\")\n",
    "cap=pd.Series(['bangalore','Mumbai','Gandinagar'],index=a,name=\"capital\")\n",
    "df=pd.DataFrame({\"population\":pop,\"capital\":cap})\n",
    "print(df)\n",
    "df1=pd.concat(\n",
    "                [df,pd.DataFrame\n",
    "                 ({\n",
    "                    \"Area\":pd.Series([\"2.3\",\"2.2\",\"1.1\"],index=pop.index),\n",
    "                    \"cm\":pd.Series([\"bomai\",\"shinde\",\"xyz\"],index=pop.index),\n",
    "                })\n",
    "                ],axis=1\n",
    "            )\n",
    "df1.to_csv(\"city.csv\")\n",
    "df1"
   ]
  },
  {
   "cell_type": "markdown",
   "id": "e65900cb",
   "metadata": {},
   "source": [
    "# SUBSETTING"
   ]
  },
  {
   "cell_type": "code",
   "execution_count": 11,
   "id": "73a4b8ee",
   "metadata": {},
   "outputs": [],
   "source": [
    "import numpy as np\n",
    "import pandas as pd\n",
    "from pandas import Series, DataFrame"
   ]
  },
  {
   "cell_type": "code",
   "execution_count": 12,
   "id": "6172ad15",
   "metadata": {},
   "outputs": [
    {
     "data": {
      "text/plain": [
       "alpha      0\n",
       "beta       1\n",
       "gama       2\n",
       "delta      3\n",
       "elipson    4\n",
       "dtype: int32"
      ]
     },
     "execution_count": 12,
     "metadata": {},
     "output_type": "execute_result"
    }
   ],
   "source": [
    "srs = Series(np.arange(5), index=[\"alpha\",\"beta\",\"gama\",\"delta\",\"elipson\"])\n",
    "srs"
   ]
  },
  {
   "cell_type": "code",
   "execution_count": 13,
   "id": "374c9788",
   "metadata": {},
   "outputs": [
    {
     "data": {
      "text/plain": [
       "alpha    0\n",
       "beta     1\n",
       "dtype: int32"
      ]
     },
     "execution_count": 13,
     "metadata": {},
     "output_type": "execute_result"
    }
   ],
   "source": [
    "srs[:2]"
   ]
  },
  {
   "cell_type": "code",
   "execution_count": 14,
   "id": "adf33520",
   "metadata": {},
   "outputs": [
    {
     "data": {
      "text/plain": [
       "beta     1\n",
       "delta    3\n",
       "dtype: int32"
      ]
     },
     "execution_count": 14,
     "metadata": {},
     "output_type": "execute_result"
    }
   ],
   "source": [
    "srs[[\"beta\",\"delta\"]]"
   ]
  },
  {
   "cell_type": "code",
   "execution_count": 15,
   "id": "af25744a",
   "metadata": {},
   "outputs": [
    {
     "data": {
      "text/plain": [
       "beta     1\n",
       "gama     2\n",
       "delta    3\n",
       "dtype: int32"
      ]
     },
     "execution_count": 15,
     "metadata": {},
     "output_type": "execute_result"
    }
   ],
   "source": [
    "srs[\"beta\":\"delta\"]"
   ]
  },
  {
   "cell_type": "code",
   "execution_count": 16,
   "id": "b5b9c5bb",
   "metadata": {},
   "outputs": [
    {
     "name": "stdout",
     "output_type": "stream",
     "text": [
      "alpha      0\n",
      "beta       1\n",
      "gama       2\n",
      "delta      3\n",
      "elipson    4\n",
      "dtype: int32\n"
     ]
    },
    {
     "data": {
      "text/plain": [
       "elipson    4\n",
       "dtype: int32"
      ]
     },
     "execution_count": 16,
     "metadata": {},
     "output_type": "execute_result"
    }
   ],
   "source": [
    "print(srs)\n",
    "srs[srs > 3]"
   ]
  },
  {
   "cell_type": "code",
   "execution_count": 17,
   "id": "b94e0b26",
   "metadata": {},
   "outputs": [
    {
     "data": {
      "text/plain": [
       "alpha      False\n",
       "beta       False\n",
       "gama       False\n",
       "delta      False\n",
       "elipson     True\n",
       "dtype: bool"
      ]
     },
     "execution_count": 17,
     "metadata": {},
     "output_type": "execute_result"
    }
   ],
   "source": [
    "srs > 3"
   ]
  },
  {
   "cell_type": "code",
   "execution_count": 18,
   "id": "465302a6",
   "metadata": {},
   "outputs": [
    {
     "data": {
      "text/plain": [
       "3     zero\n",
       "2      one\n",
       "4      two\n",
       "0    three\n",
       "1     four\n",
       "dtype: object"
      ]
     },
     "execution_count": 18,
     "metadata": {},
     "output_type": "execute_result"
    }
   ],
   "source": [
    "srs2 = Series([\"zero\",\"one\",\"two\",\"three\",\"four\"], index=[3,2,4,0,1])\n",
    "srs2"
   ]
  },
  {
   "cell_type": "code",
   "execution_count": 19,
   "id": "dc30f90d",
   "metadata": {},
   "outputs": [
    {
     "data": {
      "text/plain": [
       "4      two\n",
       "0    three\n",
       "dtype: object"
      ]
     },
     "execution_count": 19,
     "metadata": {},
     "output_type": "execute_result"
    }
   ],
   "source": [
    "srs2[2:4]    #Ambiguous"
   ]
  },
  {
   "cell_type": "code",
   "execution_count": 20,
   "id": "5cc4091f",
   "metadata": {},
   "outputs": [
    {
     "data": {
      "text/plain": [
       "2      one\n",
       "4      two\n",
       "0    three\n",
       "dtype: object"
      ]
     },
     "execution_count": 20,
     "metadata": {},
     "output_type": "execute_result"
    }
   ],
   "source": [
    "srs2.iloc[1:4]"
   ]
  },
  {
   "cell_type": "code",
   "execution_count": 21,
   "id": "ce210916",
   "metadata": {},
   "outputs": [
    {
     "data": {
      "text/plain": [
       "3     zero\n",
       "2      one\n",
       "4      two\n",
       "0    three\n",
       "dtype: object"
      ]
     },
     "execution_count": 21,
     "metadata": {},
     "output_type": "execute_result"
    }
   ],
   "source": [
    "srs2.loc[3:0]"
   ]
  },
  {
   "cell_type": "code",
   "execution_count": 22,
   "id": "69c234bf",
   "metadata": {},
   "outputs": [
    {
     "data": {
      "text/html": [
       "<div>\n",
       "<style scoped>\n",
       "    .dataframe tbody tr th:only-of-type {\n",
       "        vertical-align: middle;\n",
       "    }\n",
       "\n",
       "    .dataframe tbody tr th {\n",
       "        vertical-align: top;\n",
       "    }\n",
       "\n",
       "    .dataframe thead th {\n",
       "        text-align: right;\n",
       "    }\n",
       "</style>\n",
       "<table border=\"1\" class=\"dataframe\">\n",
       "  <thead>\n",
       "    <tr style=\"text-align: right;\">\n",
       "      <th></th>\n",
       "      <th>AAA</th>\n",
       "      <th>BBB</th>\n",
       "      <th>CCC</th>\n",
       "    </tr>\n",
       "  </thead>\n",
       "  <tbody>\n",
       "    <tr>\n",
       "      <th>alpha</th>\n",
       "      <td>0</td>\n",
       "      <td>1</td>\n",
       "      <td>2</td>\n",
       "    </tr>\n",
       "    <tr>\n",
       "      <th>beta</th>\n",
       "      <td>3</td>\n",
       "      <td>4</td>\n",
       "      <td>5</td>\n",
       "    </tr>\n",
       "    <tr>\n",
       "      <th>gama</th>\n",
       "      <td>6</td>\n",
       "      <td>7</td>\n",
       "      <td>8</td>\n",
       "    </tr>\n",
       "    <tr>\n",
       "      <th>delta</th>\n",
       "      <td>9</td>\n",
       "      <td>10</td>\n",
       "      <td>11</td>\n",
       "    </tr>\n",
       "    <tr>\n",
       "      <th>epsilon</th>\n",
       "      <td>12</td>\n",
       "      <td>13</td>\n",
       "      <td>14</td>\n",
       "    </tr>\n",
       "    <tr>\n",
       "      <th>zeta</th>\n",
       "      <td>15</td>\n",
       "      <td>16</td>\n",
       "      <td>17</td>\n",
       "    </tr>\n",
       "    <tr>\n",
       "      <th>eta</th>\n",
       "      <td>18</td>\n",
       "      <td>19</td>\n",
       "      <td>20</td>\n",
       "    </tr>\n",
       "  </tbody>\n",
       "</table>\n",
       "</div>"
      ],
      "text/plain": [
       "         AAA  BBB  CCC\n",
       "alpha      0    1    2\n",
       "beta       3    4    5\n",
       "gama       6    7    8\n",
       "delta      9   10   11\n",
       "epsilon   12   13   14\n",
       "zeta      15   16   17\n",
       "eta       18   19   20"
      ]
     },
     "execution_count": 22,
     "metadata": {},
     "output_type": "execute_result"
    }
   ],
   "source": [
    "df = DataFrame(np.arange(21).reshape(7,3), columns=['AAA','BBB','CCC'], index=[\"alpha\",\"beta\",\"gama\",\"delta\",\"epsilon\",\"zeta\",\"eta\"])\n",
    "df\n"
   ]
  },
  {
   "cell_type": "code",
   "execution_count": 23,
   "id": "cd2d8981",
   "metadata": {},
   "outputs": [
    {
     "data": {
      "text/plain": [
       "alpha       0\n",
       "beta        3\n",
       "gama        6\n",
       "delta       9\n",
       "epsilon    12\n",
       "zeta       15\n",
       "eta        18\n",
       "Name: AAA, dtype: int32"
      ]
     },
     "execution_count": 23,
     "metadata": {},
     "output_type": "execute_result"
    }
   ],
   "source": [
    "df.AAA"
   ]
  },
  {
   "cell_type": "code",
   "execution_count": 24,
   "id": "a4a41ac3",
   "metadata": {},
   "outputs": [
    {
     "data": {
      "text/plain": [
       "alpha       0\n",
       "beta        3\n",
       "gama        6\n",
       "delta       9\n",
       "epsilon    12\n",
       "zeta       15\n",
       "eta        18\n",
       "Name: AAA, dtype: int32"
      ]
     },
     "execution_count": 24,
     "metadata": {},
     "output_type": "execute_result"
    }
   ],
   "source": [
    "df['AAA']"
   ]
  },
  {
   "cell_type": "code",
   "execution_count": 25,
   "id": "285d29f3",
   "metadata": {},
   "outputs": [
    {
     "data": {
      "text/html": [
       "<div>\n",
       "<style scoped>\n",
       "    .dataframe tbody tr th:only-of-type {\n",
       "        vertical-align: middle;\n",
       "    }\n",
       "\n",
       "    .dataframe tbody tr th {\n",
       "        vertical-align: top;\n",
       "    }\n",
       "\n",
       "    .dataframe thead th {\n",
       "        text-align: right;\n",
       "    }\n",
       "</style>\n",
       "<table border=\"1\" class=\"dataframe\">\n",
       "  <thead>\n",
       "    <tr style=\"text-align: right;\">\n",
       "      <th></th>\n",
       "      <th>BBB</th>\n",
       "      <th>CCC</th>\n",
       "    </tr>\n",
       "  </thead>\n",
       "  <tbody>\n",
       "    <tr>\n",
       "      <th>alpha</th>\n",
       "      <td>1</td>\n",
       "      <td>2</td>\n",
       "    </tr>\n",
       "    <tr>\n",
       "      <th>beta</th>\n",
       "      <td>4</td>\n",
       "      <td>5</td>\n",
       "    </tr>\n",
       "    <tr>\n",
       "      <th>gama</th>\n",
       "      <td>7</td>\n",
       "      <td>8</td>\n",
       "    </tr>\n",
       "    <tr>\n",
       "      <th>delta</th>\n",
       "      <td>10</td>\n",
       "      <td>11</td>\n",
       "    </tr>\n",
       "    <tr>\n",
       "      <th>epsilon</th>\n",
       "      <td>13</td>\n",
       "      <td>14</td>\n",
       "    </tr>\n",
       "    <tr>\n",
       "      <th>zeta</th>\n",
       "      <td>16</td>\n",
       "      <td>17</td>\n",
       "    </tr>\n",
       "    <tr>\n",
       "      <th>eta</th>\n",
       "      <td>19</td>\n",
       "      <td>20</td>\n",
       "    </tr>\n",
       "  </tbody>\n",
       "</table>\n",
       "</div>"
      ],
      "text/plain": [
       "         BBB  CCC\n",
       "alpha      1    2\n",
       "beta       4    5\n",
       "gama       7    8\n",
       "delta     10   11\n",
       "epsilon   13   14\n",
       "zeta      16   17\n",
       "eta       19   20"
      ]
     },
     "execution_count": 25,
     "metadata": {},
     "output_type": "execute_result"
    }
   ],
   "source": [
    "df[['BBB','CCC']]"
   ]
  },
  {
   "cell_type": "code",
   "execution_count": 26,
   "id": "914c660e",
   "metadata": {},
   "outputs": [
    {
     "data": {
      "text/html": [
       "<div>\n",
       "<style scoped>\n",
       "    .dataframe tbody tr th:only-of-type {\n",
       "        vertical-align: middle;\n",
       "    }\n",
       "\n",
       "    .dataframe tbody tr th {\n",
       "        vertical-align: top;\n",
       "    }\n",
       "\n",
       "    .dataframe thead th {\n",
       "        text-align: right;\n",
       "    }\n",
       "</style>\n",
       "<table border=\"1\" class=\"dataframe\">\n",
       "  <thead>\n",
       "    <tr style=\"text-align: right;\">\n",
       "      <th></th>\n",
       "      <th>BBB</th>\n",
       "    </tr>\n",
       "  </thead>\n",
       "  <tbody>\n",
       "    <tr>\n",
       "      <th>beta</th>\n",
       "      <td>4</td>\n",
       "    </tr>\n",
       "    <tr>\n",
       "      <th>gama</th>\n",
       "      <td>7</td>\n",
       "    </tr>\n",
       "  </tbody>\n",
       "</table>\n",
       "</div>"
      ],
      "text/plain": [
       "      BBB\n",
       "beta    4\n",
       "gama    7"
      ]
     },
     "execution_count": 26,
     "metadata": {},
     "output_type": "execute_result"
    }
   ],
   "source": [
    "df.iloc[1:3, 1:2]"
   ]
  },
  {
   "cell_type": "code",
   "execution_count": 27,
   "id": "460781d5",
   "metadata": {},
   "outputs": [
    {
     "data": {
      "text/html": [
       "<div>\n",
       "<style scoped>\n",
       "    .dataframe tbody tr th:only-of-type {\n",
       "        vertical-align: middle;\n",
       "    }\n",
       "\n",
       "    .dataframe tbody tr th {\n",
       "        vertical-align: top;\n",
       "    }\n",
       "\n",
       "    .dataframe thead th {\n",
       "        text-align: right;\n",
       "    }\n",
       "</style>\n",
       "<table border=\"1\" class=\"dataframe\">\n",
       "  <thead>\n",
       "    <tr style=\"text-align: right;\">\n",
       "      <th></th>\n",
       "      <th>BBB</th>\n",
       "      <th>CCC</th>\n",
       "    </tr>\n",
       "  </thead>\n",
       "  <tbody>\n",
       "    <tr>\n",
       "      <th>beta</th>\n",
       "      <td>4</td>\n",
       "      <td>5</td>\n",
       "    </tr>\n",
       "    <tr>\n",
       "      <th>gama</th>\n",
       "      <td>7</td>\n",
       "      <td>8</td>\n",
       "    </tr>\n",
       "    <tr>\n",
       "      <th>delta</th>\n",
       "      <td>10</td>\n",
       "      <td>11</td>\n",
       "    </tr>\n",
       "  </tbody>\n",
       "</table>\n",
       "</div>"
      ],
      "text/plain": [
       "       BBB  CCC\n",
       "beta     4    5\n",
       "gama     7    8\n",
       "delta   10   11"
      ]
     },
     "execution_count": 27,
     "metadata": {},
     "output_type": "execute_result"
    }
   ],
   "source": [
    "df.loc['beta':'delta', 'BBB':'CCC']"
   ]
  },
  {
   "cell_type": "code",
   "execution_count": 28,
   "id": "71592c69",
   "metadata": {},
   "outputs": [
    {
     "data": {
      "text/html": [
       "<div>\n",
       "<style scoped>\n",
       "    .dataframe tbody tr th:only-of-type {\n",
       "        vertical-align: middle;\n",
       "    }\n",
       "\n",
       "    .dataframe tbody tr th {\n",
       "        vertical-align: top;\n",
       "    }\n",
       "\n",
       "    .dataframe thead th {\n",
       "        text-align: right;\n",
       "    }\n",
       "</style>\n",
       "<table border=\"1\" class=\"dataframe\">\n",
       "  <thead>\n",
       "    <tr style=\"text-align: right;\">\n",
       "      <th></th>\n",
       "      <th>BBB</th>\n",
       "      <th>CCC</th>\n",
       "    </tr>\n",
       "  </thead>\n",
       "  <tbody>\n",
       "    <tr>\n",
       "      <th>alpha</th>\n",
       "      <td>1</td>\n",
       "      <td>2</td>\n",
       "    </tr>\n",
       "    <tr>\n",
       "      <th>beta</th>\n",
       "      <td>4</td>\n",
       "      <td>5</td>\n",
       "    </tr>\n",
       "    <tr>\n",
       "      <th>gama</th>\n",
       "      <td>7</td>\n",
       "      <td>8</td>\n",
       "    </tr>\n",
       "    <tr>\n",
       "      <th>delta</th>\n",
       "      <td>10</td>\n",
       "      <td>11</td>\n",
       "    </tr>\n",
       "    <tr>\n",
       "      <th>epsilon</th>\n",
       "      <td>13</td>\n",
       "      <td>14</td>\n",
       "    </tr>\n",
       "    <tr>\n",
       "      <th>zeta</th>\n",
       "      <td>16</td>\n",
       "      <td>17</td>\n",
       "    </tr>\n",
       "    <tr>\n",
       "      <th>eta</th>\n",
       "      <td>19</td>\n",
       "      <td>20</td>\n",
       "    </tr>\n",
       "  </tbody>\n",
       "</table>\n",
       "</div>"
      ],
      "text/plain": [
       "         BBB  CCC\n",
       "alpha      1    2\n",
       "beta       4    5\n",
       "gama       7    8\n",
       "delta     10   11\n",
       "epsilon   13   14\n",
       "zeta      16   17\n",
       "eta       19   20"
      ]
     },
     "execution_count": 28,
     "metadata": {},
     "output_type": "execute_result"
    }
   ],
   "source": [
    "df.iloc[:, 1:3]"
   ]
  },
  {
   "cell_type": "code",
   "execution_count": 29,
   "id": "3e6be6d2",
   "metadata": {},
   "outputs": [
    {
     "data": {
      "text/html": [
       "<div>\n",
       "<style scoped>\n",
       "    .dataframe tbody tr th:only-of-type {\n",
       "        vertical-align: middle;\n",
       "    }\n",
       "\n",
       "    .dataframe tbody tr th {\n",
       "        vertical-align: top;\n",
       "    }\n",
       "\n",
       "    .dataframe thead th {\n",
       "        text-align: right;\n",
       "    }\n",
       "</style>\n",
       "<table border=\"1\" class=\"dataframe\">\n",
       "  <thead>\n",
       "    <tr style=\"text-align: right;\">\n",
       "      <th></th>\n",
       "      <th>BBB</th>\n",
       "      <th>CCC</th>\n",
       "    </tr>\n",
       "  </thead>\n",
       "  <tbody>\n",
       "    <tr>\n",
       "      <th>alpha</th>\n",
       "      <td>1</td>\n",
       "      <td>2</td>\n",
       "    </tr>\n",
       "    <tr>\n",
       "      <th>gama</th>\n",
       "      <td>7</td>\n",
       "      <td>8</td>\n",
       "    </tr>\n",
       "    <tr>\n",
       "      <th>zeta</th>\n",
       "      <td>16</td>\n",
       "      <td>17</td>\n",
       "    </tr>\n",
       "  </tbody>\n",
       "</table>\n",
       "</div>"
      ],
      "text/plain": [
       "       BBB  CCC\n",
       "alpha    1    2\n",
       "gama     7    8\n",
       "zeta    16   17"
      ]
     },
     "execution_count": 29,
     "metadata": {},
     "output_type": "execute_result"
    }
   ],
   "source": [
    "df.iloc[:, 1:3].loc[['alpha', 'gama', 'zeta']]"
   ]
  },
  {
   "cell_type": "code",
   "execution_count": 30,
   "id": "f0b6f774",
   "metadata": {},
   "outputs": [
    {
     "data": {
      "text/html": [
       "<div>\n",
       "<style scoped>\n",
       "    .dataframe tbody tr th:only-of-type {\n",
       "        vertical-align: middle;\n",
       "    }\n",
       "\n",
       "    .dataframe tbody tr th {\n",
       "        vertical-align: top;\n",
       "    }\n",
       "\n",
       "    .dataframe thead th {\n",
       "        text-align: right;\n",
       "    }\n",
       "</style>\n",
       "<table border=\"1\" class=\"dataframe\">\n",
       "  <thead>\n",
       "    <tr style=\"text-align: right;\">\n",
       "      <th></th>\n",
       "      <th>BBB</th>\n",
       "      <th>CCC</th>\n",
       "    </tr>\n",
       "  </thead>\n",
       "  <tbody>\n",
       "    <tr>\n",
       "      <th>alpha</th>\n",
       "      <td>1</td>\n",
       "      <td>2</td>\n",
       "    </tr>\n",
       "    <tr>\n",
       "      <th>gama</th>\n",
       "      <td>7</td>\n",
       "      <td>8</td>\n",
       "    </tr>\n",
       "    <tr>\n",
       "      <th>zeta</th>\n",
       "      <td>16</td>\n",
       "      <td>17</td>\n",
       "    </tr>\n",
       "  </tbody>\n",
       "</table>\n",
       "</div>"
      ],
      "text/plain": [
       "       BBB  CCC\n",
       "alpha    1    2\n",
       "gama     7    8\n",
       "zeta    16   17"
      ]
     },
     "execution_count": 30,
     "metadata": {},
     "output_type": "execute_result"
    }
   ],
   "source": [
    "df2 = df.iloc[:, 1:3].loc[['alpha', 'gama', 'zeta']].copy()\n",
    "df2"
   ]
  },
  {
   "cell_type": "code",
   "execution_count": 31,
   "id": "c53c036f",
   "metadata": {},
   "outputs": [
    {
     "data": {
      "text/html": [
       "<div>\n",
       "<style scoped>\n",
       "    .dataframe tbody tr th:only-of-type {\n",
       "        vertical-align: middle;\n",
       "    }\n",
       "\n",
       "    .dataframe tbody tr th {\n",
       "        vertical-align: top;\n",
       "    }\n",
       "\n",
       "    .dataframe thead th {\n",
       "        text-align: right;\n",
       "    }\n",
       "</style>\n",
       "<table border=\"1\" class=\"dataframe\">\n",
       "  <thead>\n",
       "    <tr style=\"text-align: right;\">\n",
       "      <th></th>\n",
       "      <th>BBB</th>\n",
       "      <th>CCC</th>\n",
       "    </tr>\n",
       "  </thead>\n",
       "  <tbody>\n",
       "    <tr>\n",
       "      <th>alpha</th>\n",
       "      <td>1</td>\n",
       "      <td>11</td>\n",
       "    </tr>\n",
       "    <tr>\n",
       "      <th>gama</th>\n",
       "      <td>7</td>\n",
       "      <td>18</td>\n",
       "    </tr>\n",
       "    <tr>\n",
       "      <th>zeta</th>\n",
       "      <td>16</td>\n",
       "      <td>5</td>\n",
       "    </tr>\n",
       "  </tbody>\n",
       "</table>\n",
       "</div>"
      ],
      "text/plain": [
       "       BBB  CCC\n",
       "alpha    1   11\n",
       "gama     7   18\n",
       "zeta    16    5"
      ]
     },
     "execution_count": 31,
     "metadata": {},
     "output_type": "execute_result"
    }
   ],
   "source": [
    "df2['CCC'] = Series({'alpha':11, 'gama':18, 'zeta':5})\n",
    "df2"
   ]
  },
  {
   "cell_type": "code",
   "execution_count": 32,
   "id": "08d53dc7",
   "metadata": {},
   "outputs": [
    {
     "data": {
      "text/html": [
       "<div>\n",
       "<style scoped>\n",
       "    .dataframe tbody tr th:only-of-type {\n",
       "        vertical-align: middle;\n",
       "    }\n",
       "\n",
       "    .dataframe tbody tr th {\n",
       "        vertical-align: top;\n",
       "    }\n",
       "\n",
       "    .dataframe thead th {\n",
       "        text-align: right;\n",
       "    }\n",
       "</style>\n",
       "<table border=\"1\" class=\"dataframe\">\n",
       "  <thead>\n",
       "    <tr style=\"text-align: right;\">\n",
       "      <th></th>\n",
       "      <th>BBB</th>\n",
       "      <th>CCC</th>\n",
       "    </tr>\n",
       "  </thead>\n",
       "  <tbody>\n",
       "    <tr>\n",
       "      <th>alpha</th>\n",
       "      <td>1</td>\n",
       "      <td>11</td>\n",
       "    </tr>\n",
       "    <tr>\n",
       "      <th>gama</th>\n",
       "      <td>7</td>\n",
       "      <td>2</td>\n",
       "    </tr>\n",
       "    <tr>\n",
       "      <th>zeta</th>\n",
       "      <td>16</td>\n",
       "      <td>5</td>\n",
       "    </tr>\n",
       "  </tbody>\n",
       "</table>\n",
       "</div>"
      ],
      "text/plain": [
       "       BBB  CCC\n",
       "alpha    1   11\n",
       "gama     7    2\n",
       "zeta    16    5"
      ]
     },
     "execution_count": 32,
     "metadata": {},
     "output_type": "execute_result"
    }
   ],
   "source": [
    "df2.iloc[1, 1] = 2\n",
    "df2"
   ]
  },
  {
   "cell_type": "code",
   "execution_count": 33,
   "id": "d8f703eb",
   "metadata": {},
   "outputs": [
    {
     "data": {
      "text/html": [
       "<div>\n",
       "<style scoped>\n",
       "    .dataframe tbody tr th:only-of-type {\n",
       "        vertical-align: middle;\n",
       "    }\n",
       "\n",
       "    .dataframe tbody tr th {\n",
       "        vertical-align: top;\n",
       "    }\n",
       "\n",
       "    .dataframe thead th {\n",
       "        text-align: right;\n",
       "    }\n",
       "</style>\n",
       "<table border=\"1\" class=\"dataframe\">\n",
       "  <thead>\n",
       "    <tr style=\"text-align: right;\">\n",
       "      <th></th>\n",
       "      <th>BBB</th>\n",
       "      <th>CCC</th>\n",
       "    </tr>\n",
       "  </thead>\n",
       "  <tbody>\n",
       "    <tr>\n",
       "      <th>alpha</th>\n",
       "      <td>1</td>\n",
       "      <td>0</td>\n",
       "    </tr>\n",
       "    <tr>\n",
       "      <th>gama</th>\n",
       "      <td>7</td>\n",
       "      <td>0</td>\n",
       "    </tr>\n",
       "    <tr>\n",
       "      <th>zeta</th>\n",
       "      <td>16</td>\n",
       "      <td>0</td>\n",
       "    </tr>\n",
       "  </tbody>\n",
       "</table>\n",
       "</div>"
      ],
      "text/plain": [
       "       BBB  CCC\n",
       "alpha    1    0\n",
       "gama     7    0\n",
       "zeta    16    0"
      ]
     },
     "execution_count": 33,
     "metadata": {},
     "output_type": "execute_result"
    }
   ],
   "source": [
    "df2.iloc[:, 1] = 0\n",
    "df2"
   ]
  },
  {
   "cell_type": "code",
   "execution_count": null,
   "id": "5bb02bab",
   "metadata": {},
   "outputs": [],
   "source": []
  }
 ],
 "metadata": {
  "kernelspec": {
   "display_name": "Python 3 (ipykernel)",
   "language": "python",
   "name": "python3"
  },
  "language_info": {
   "codemirror_mode": {
    "name": "ipython",
    "version": 3
   },
   "file_extension": ".py",
   "mimetype": "text/x-python",
   "name": "python",
   "nbconvert_exporter": "python",
   "pygments_lexer": "ipython3",
   "version": "3.9.12"
  }
 },
 "nbformat": 4,
 "nbformat_minor": 5
}
