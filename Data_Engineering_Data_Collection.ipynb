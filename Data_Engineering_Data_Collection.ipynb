{
 "cells": [
  {
   "cell_type": "markdown",
   "id": "9c04c742",
   "metadata": {},
   "source": [
    "# Data engineering pipeline\n",
    "# Data Collection"
   ]
  },
  {
   "cell_type": "markdown",
   "id": "56e50148",
   "metadata": {},
   "source": [
    "# Population and sample"
   ]
  },
  {
   "cell_type": "markdown",
   "id": "115c3c16",
   "metadata": {},
   "source": [
    "https://byjus.com/maths/population-and-sample/"
   ]
  },
  {
   "cell_type": "markdown",
   "id": "4bb8977c",
   "metadata": {},
   "source": [
    "# What is Population?\n",
    "In statistics, population is the entire set of items from which you draw data for a statistical study. It can be a group of individuals, a set of items, etc. It makes up the data pool for a study.\n",
    "\n",
    "# What is a Sample?\n",
    "A sample is defined as a smaller and more manageable representation of a larger group. A subset of a larger population that contains characteristics of that population. A sample is used in statistical testing when the population size is too large for all members or observations to be included in the test.\n",
    "\n",
    "# Basically, there are two types of sampling. They are:\n",
    "1.Probability sampling\n",
    "2.Non-probability sampling\n",
    "\n",
    "# Probability Sampling\n",
    "In probability sampling, the population units cannot be selected at the discretion of the researcher. This can be dealt with following certain procedures which will ensure that every unit of the population consists of one fixed probability being included in the sample. Such a method is also called random sampling. Some of the techniques used for probability sampling are:\n",
    "\n",
    "1.Simple random sampling\n",
    "2.Cluster sampling\n",
    "3.Stratified Sampling\n",
    "4.Disproportionate sampling\n",
    "5.Proportionate sampling\n",
    "6.Optimum allocation stratified sampling\n",
    "7.Multi-stage sampling\n",
    "\n",
    "# Non Probability Sampling\n",
    "In non-probability sampling, the population units can be selected at the discretion of the researcher. Those samples will use the human judgements for selecting units and has no theoretical basis for estimating the characteristics of the population. Some of the techniques used for non-probability sampling are\n",
    "\n",
    "Quota sampling\n",
    "Judgement sampling\n",
    "Purposive sampling\n",
    "\n",
    "# Population and Sample Examples\n",
    "All the people who have the ID proofs is the population and a group of people who only have voter id with them is the sample.\n",
    "All the students in the class are population whereas the top 10 students in the class are the sample.\n",
    "All the members of the parliament is population and the female candidates present there is the sample."
   ]
  },
  {
   "cell_type": "markdown",
   "id": "3ddbd2cc",
   "metadata": {},
   "source": [
    "# Types of data"
   ]
  },
  {
   "cell_type": "markdown",
   "id": "e068c3e0",
   "metadata": {},
   "source": [
    "# 1. Data type \n",
    "# type 1 (cross sectional, time series)\n",
    "\n",
    "Cross-sectional data refer to observations of many different individuals (subjects, objects) at a given time, each observation belonging to a different individual.\n",
    "Example: gross annual income for each of 1000 randomly chosen households in India for the year 2000.\n",
    "\n",
    "A time series data is the set of measurements taking place in a constant interval of time, here time acts as independent variable and the objective ( to study changes in a characteristics) is dependent variables.\n",
    "Example: Sales on daily basis"
   ]
  },
  {
   "cell_type": "markdown",
   "id": "cde0a067",
   "metadata": {},
   "source": [
    "#Time series data: A set of observations contains values, taken by variable at different times.\n",
    "#Cross-sectional data: Data values of one or more variables, gathered at the same time-point."
   ]
  },
  {
   "cell_type": "markdown",
   "id": "167d5f09",
   "metadata": {},
   "source": [
    "# type 2 (univariate, multivariate)\n",
    "univariate: Univariate is used to describe a type of data which consists of observations on only a single characteristic or attribute. Example: salaries of an employee in Company.\n",
    "\n",
    "multivariate: multivariate is used to describe a type of data which consists of observations on two or more characteristic or attribute.Examples: name,Department,YoE,Salary of an employee in Company."
   ]
  },
  {
   "cell_type": "markdown",
   "id": "1d2e7494",
   "metadata": {},
   "source": [
    "# 2. Variable types (categorical, ordinal, ratio, interval)\n",
    "\n",
    "Categorical: Categorical variables are usually represented as ‘strings’ or ‘categories’ and are finite in number.\n",
    "Examples:1.The city where a person lives: Delhi, Mumbai, Ahmedabad, Bangalore, etc.2.The department a person works in: Finance, Human resources, IT, Production.\n",
    "\n",
    "Nominal Data: Nominal Data can not be place in any order or quantitative value.\n",
    "Example: Gender (Male, Female, Others)\n",
    "\n",
    "Ordinal data: Ordinal data have natural ordering where a number is present in some kind of order by their position on the scale. \n",
    "Example: Pclass (First Class, Second Class, Third Class)\n",
    "\n",
    "Quantitative Data- Quantitative data can be expressed in numerical values, making it countable and including statistical data analysis. These kinds of data are also known as Numerical data. Example: Age of a person.\n",
    "\n",
    "Discrete Data: The discrete data contain the values that fall under integers or whole numbers.  These data can’t be broken into decimal or fraction values. Example: The total number of students in a class.\n",
    "\n",
    "Continuous data: Continuous data are in the form of fractional numbers.  Continuous data represents information that can be divided into smaller levels. The continuous variable can take any value within a range. \n",
    "Example: the height of a person, the length of an object.\n",
    "\n",
    "Ratio data: Ratio data is a form of quantitative (numeric) data. It measures variables on a continuous scale, with an equal distance between adjacent values. ratio data is all about measuring continuous variables on equidistant scales. ratio data can never have a negative value.\n",
    "Examples: Height (5ft. 8in., 5ft. 9in., 5ft. 10in., 5ft. 11in., 6ft. 0in. etc.), Price of item (0, 5, 10, 15, 20, 30, etc.)\n",
    "\n",
    "interval: Interval data is a type of quantitative (numerical) data. It groups variables into categories and always uses some kind of ordered scale. Furthermore, interval values are always ordered and separated using an equal measure of distance."
   ]
  },
  {
   "cell_type": "markdown",
   "id": "31e6842a",
   "metadata": {},
   "source": [
    "# Exercise: consider the Titanic dataset identify all tpes of datas."
   ]
  },
  {
   "cell_type": "markdown",
   "id": "db988640",
   "metadata": {},
   "source": [
    "# Key terminologies in Statistics"
   ]
  },
  {
   "cell_type": "markdown",
   "id": "e7ee6aca",
   "metadata": {},
   "source": [
    "# Probability (Basic concepts)"
   ]
  },
  {
   "cell_type": "markdown",
   "id": "79bda1f7",
   "metadata": {},
   "source": [
    "# Probability: Probability tells how likely is the event to occur. The value of Probability always lies between 0 to 1. It is the core concept as well as a primary prerequisite to understanding the ML models and their applications.\n",
    "    \n",
    "# Probability can be calculated by the number of times the event occurs divided by the total number of possible outcomes. Let's suppose we tossed a coin, then the probability of getting head as a possible outcome can be calculated as below formula:\n",
    "\n",
    "# P (H) = Number of ways to head occur/ total number of possible outcomes\n",
    "\n",
    "# P (H) = ½\n",
    "\n",
    "# P (H) = 0.5\n",
    "\n",
    "# Where;\n",
    "\n",
    "# P (H) = Probability of occurring Head as outcome while tossing a coin."
   ]
  },
  {
   "cell_type": "code",
   "execution_count": null,
   "id": "4baaefb3",
   "metadata": {},
   "outputs": [],
   "source": []
  },
  {
   "cell_type": "markdown",
   "id": "1cd8c290",
   "metadata": {},
   "source": [
    "# Conditional probability\n",
    "# Conditional Probability:It is given by the Probability of event A given that event B occurred.\n",
    "\n",
    "# The Probability of an event A conditioned on an event B is denoted and defined as;\n",
    "\n",
    "# P(A|B) = P(A∩B)/P(B)\n",
    "\n",
    "# Similarly, P(B|A) = P(A ∩ B)/ P(A) . We can write the joint Probability of as A and B as P(A ∩ B)= p(A).P(B|A), which means: \"The chance of both things happening is the chance that the first one happens, and then the second one is given when the first thing happened.\""
   ]
  },
  {
   "cell_type": "markdown",
   "id": "a04737ec",
   "metadata": {},
   "source": [
    "# Joint Probability:It tells the Probability of simultaneously occurring two random events.\n",
    "\n",
    "# P(A ∩ B) = P(A). P(B)\n",
    "\n",
    "# Where;\n",
    "\n",
    "# P(A ∩ B) = Probability of occurring events A and B both.\n",
    "\n",
    "# P (A) = Probability of event A\n",
    "\n",
    "# P (B) = Probability of event B"
   ]
  },
  {
   "cell_type": "markdown",
   "id": "5c9402e5",
   "metadata": {},
   "source": [
    "# Bayes’ Theorem"
   ]
  },
  {
   "cell_type": "markdown",
   "id": "a25c24a9",
   "metadata": {},
   "source": [
    "https://www.javatpoint.com/bayes-theorem-in-machine-learning"
   ]
  },
  {
   "cell_type": "markdown",
   "id": "e347318c",
   "metadata": {},
   "source": [
    "# Probability Distributions"
   ]
  },
  {
   "cell_type": "markdown",
   "id": "6b403704",
   "metadata": {},
   "source": [
    "1.Discrete"
   ]
  },
  {
   "cell_type": "markdown",
   "id": "59dcc65d",
   "metadata": {},
   "source": [
    "2.Continuous"
   ]
  },
  {
   "cell_type": "markdown",
   "id": "69914cfb",
   "metadata": {},
   "source": [
    "3.Central Limit Theorem"
   ]
  },
  {
   "cell_type": "markdown",
   "id": "318f0cda",
   "metadata": {},
   "source": [
    "https://www.knowledgehut.com/blog/data-science/probability-distribution-types"
   ]
  },
  {
   "cell_type": "code",
   "execution_count": null,
   "id": "7e5f6ea4",
   "metadata": {},
   "outputs": [],
   "source": []
  }
 ],
 "metadata": {
  "kernelspec": {
   "display_name": "Python 3 (ipykernel)",
   "language": "python",
   "name": "python3"
  },
  "language_info": {
   "codemirror_mode": {
    "name": "ipython",
    "version": 3
   },
   "file_extension": ".py",
   "mimetype": "text/x-python",
   "name": "python",
   "nbconvert_exporter": "python",
   "pygments_lexer": "ipython3",
   "version": "3.9.12"
  }
 },
 "nbformat": 4,
 "nbformat_minor": 5
}
