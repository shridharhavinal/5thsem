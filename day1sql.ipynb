{
 "cells": [
  {
   "cell_type": "markdown",
   "id": "8164f073",
   "metadata": {},
   "source": [
    "# import MySQL connector"
   ]
  },
  {
   "cell_type": "code",
   "execution_count": 4,
   "id": "0101ed46",
   "metadata": {},
   "outputs": [],
   "source": [
    "import mysql.connector as co"
   ]
  },
  {
   "cell_type": "markdown",
   "id": "64859e34",
   "metadata": {},
   "source": [
    "# connect to database"
   ]
  },
  {
   "cell_type": "code",
   "execution_count": 7,
   "id": "75eceb36",
   "metadata": {},
   "outputs": [
    {
     "name": "stdout",
     "output_type": "stream",
     "text": [
      "<mysql.connector.connection_cext.CMySQLConnection object at 0x000001DB0CA06FD0>\n"
     ]
    }
   ],
   "source": [
    "import mysql.connector as co\n",
    "new_db = co.connect(\n",
    "host = \"localhost\",\n",
    "user = \"root\",\n",
    "password = \"root\" \n",
    ")\n",
    "print (new_db)"
   ]
  },
  {
   "cell_type": "markdown",
   "id": "3429e36d",
   "metadata": {},
   "source": [
    "# Creating DATA BASE"
   ]
  },
  {
   "cell_type": "code",
   "execution_count": 8,
   "id": "215cf60e",
   "metadata": {},
   "outputs": [],
   "source": [
    "import mysql.connector as co\n",
    "new_db = co.connect(\n",
    "host = \"localhost\",\n",
    "user = \"root\",\n",
    "password = \"root\" \n",
    ")\n",
    "my_cursor = new_db.cursor()\n",
    "my_cursor.execute(\" CREATE DATABASE mydata\")"
   ]
  },
  {
   "cell_type": "markdown",
   "id": "27014312",
   "metadata": {},
   "source": [
    "# check if database exist (created)"
   ]
  },
  {
   "cell_type": "code",
   "execution_count": 10,
   "id": "b24f009b",
   "metadata": {},
   "outputs": [
    {
     "name": "stdout",
     "output_type": "stream",
     "text": [
      "('information_schema',)\n",
      "('mydata',)\n",
      "('mysql',)\n",
      "('performance_schema',)\n",
      "('sakila',)\n",
      "('sys',)\n",
      "('world',)\n"
     ]
    }
   ],
   "source": [
    "import mysql.connector as co\n",
    "new_db = co.connect(\n",
    "host = \"localhost\",\n",
    "user = \"root\",\n",
    "password = \"root\" \n",
    ")\n",
    "cursor = new_db.cursor()\n",
    "cursor.execute(\" SHOW DATABASES \")\n",
    "for a in cursor:\n",
    "    print(a)"
   ]
  },
  {
   "cell_type": "markdown",
   "id": "db74900f",
   "metadata": {},
   "source": [
    "# Creating Tables and showing Data"
   ]
  },
  {
   "cell_type": "code",
   "execution_count": 13,
   "id": "456126fc",
   "metadata": {},
   "outputs": [],
   "source": [
    "import mysql.connector as co\n",
    "new_db = co.connect(\n",
    "host = \"localhost\",\n",
    "user = \"root\",\n",
    "password = \"root\" ,\n",
    "    database = \"mydata\"\n",
    ")\n",
    "new_cursor = new_db.cursor()\n",
    "new_cursor.execute(\"CREATE TABLE Students (name VARCHAR(200), regno VARCHAR(10))\")"
   ]
  },
  {
   "cell_type": "markdown",
   "id": "d5b684f1",
   "metadata": {},
   "source": [
    "# List all Tables in new database"
   ]
  },
  {
   "cell_type": "code",
   "execution_count": 24,
   "id": "f50db31a",
   "metadata": {},
   "outputs": [
    {
     "name": "stdout",
     "output_type": "stream",
     "text": [
      "('students',)\n"
     ]
    }
   ],
   "source": [
    "import mysql.connector as co\n",
    "new_db = co.connect(\n",
    "    host = \"localhost\",\n",
    "    user = \"root\",\n",
    "    password = \"root\" ,\n",
    "    database = \"mydata\"\n",
    ")\n",
    "new_cursor = new_db.cursor()\n",
    "query = \"SHOW TABLES\"\n",
    "new_cursor.execute(query)\n",
    "for a in new_cursor:\n",
    "    print(a)"
   ]
  },
  {
   "cell_type": "markdown",
   "id": "9417782e",
   "metadata": {},
   "source": [
    "# Inserting data into Tables"
   ]
  },
  {
   "cell_type": "code",
   "execution_count": 30,
   "id": "19f4b126",
   "metadata": {},
   "outputs": [
    {
     "name": "stdout",
     "output_type": "stream",
     "text": [
      "1 new row inserted\n"
     ]
    }
   ],
   "source": [
    "import mysql.connector as co\n",
    "new_db = co.connect(\n",
    "    host = \"localhost\",\n",
    "    user = \"root\",\n",
    "    password = \"root\" ,\n",
    "    database = \"mydata\"\n",
    ")\n",
    "new_cursor = new_db.cursor()\n",
    "query = \"INSERT INTO students (name, regno) VALUES (%s, %s)\"\n",
    "values = (\"rahul\", \"393CS19001\")\n",
    "new_cursor.execute(query,values)\n",
    "new_db.commit()\n",
    "print(new_cursor.rowcount, \"new row inserted\")"
   ]
  },
  {
   "cell_type": "markdown",
   "id": "83b49b71",
   "metadata": {},
   "source": [
    "# Inserting Multiple records into Tables"
   ]
  },
  {
   "cell_type": "code",
   "execution_count": 33,
   "id": "2e11081d",
   "metadata": {},
   "outputs": [
    {
     "name": "stdout",
     "output_type": "stream",
     "text": [
      "4 new record inserted\n"
     ]
    }
   ],
   "source": [
    "import mysql.connector as co\n",
    "new_db = co.connect(\n",
    "    host = \"localhost\",\n",
    "    user = \"root\",\n",
    "    password = \"root\" ,\n",
    "    database = \"mydata\"\n",
    ")\n",
    "new_cursor = new_db.cursor()\n",
    "sql = \"INSERT INTO students (name, regno) VALUES (%s, %s)\"\n",
    "values = [(\"abinav\", \"393CS19002\"),\n",
    "         (\"akash\", \"393CS19003\"),\n",
    "         (\"omkar\", \"393CS19004\"),\n",
    "         (\"shreedhar\", \"393CS19005\")\n",
    "         ]\n",
    "new_cursor.executemany(sql,values)\n",
    "new_db.commit()\n",
    "print(new_cursor.rowcount, \"new record inserted\")"
   ]
  },
  {
   "cell_type": "markdown",
   "id": "e344c0bb",
   "metadata": {},
   "source": [
    "# Display the Records From Table"
   ]
  },
  {
   "cell_type": "code",
   "execution_count": 36,
   "id": "fbd9a739",
   "metadata": {},
   "outputs": [
    {
     "name": "stdout",
     "output_type": "stream",
     "text": [
      "('rahul', '393CS19001')\n",
      "('rahul', '393CS19001')\n",
      "('rahul', '393CS19001')\n",
      "('rahul', '393CS19001')\n",
      "('abinav', '393CS19002')\n",
      "('akash', '393CS19003')\n",
      "('omkar', '393CS19004')\n",
      "('shreedhar', '393CS19005')\n",
      "('abinav', '393CS19002')\n",
      "('akash', '393CS19003')\n",
      "('omkar', '393CS19004')\n",
      "('shreedhar', '393CS19005')\n"
     ]
    }
   ],
   "source": [
    "import mysql.connector as co\n",
    "new_db = co.connect(\n",
    "    host = \"localhost\",\n",
    "    user = \"root\",\n",
    "    password = \"root\" ,\n",
    "    database = \"mydata\"\n",
    ")\n",
    "new_cursor = new_db.cursor()\n",
    "query = \" SELECT * From students\"\n",
    "new_cursor.execute(query)\n",
    "for a in new_cursor:\n",
    "    print(a)"
   ]
  },
  {
   "cell_type": "markdown",
   "id": "d14fb351",
   "metadata": {},
   "source": [
    "# disply perticular record from database"
   ]
  },
  {
   "cell_type": "code",
   "execution_count": 2,
   "id": "e7db562d",
   "metadata": {},
   "outputs": [
    {
     "name": "stdout",
     "output_type": "stream",
     "text": [
      "('rahul',)\n",
      "('rahul',)\n",
      "('rahul',)\n",
      "('rahul',)\n",
      "('abinav',)\n",
      "('akash',)\n",
      "('omkar',)\n",
      "('shreedhar',)\n",
      "('abinav',)\n",
      "('akash',)\n",
      "('omkar',)\n",
      "('shreedhar',)\n"
     ]
    }
   ],
   "source": [
    "import mysql.connector as co\n",
    "new_db = co.connect(\n",
    "    host = \"localhost\",\n",
    "    user = \"root\",\n",
    "    password = \"root\" ,\n",
    "    database = \"mydata\"\n",
    ")\n",
    "new_cursor = new_db.cursor()\n",
    "query = \" select name From students \"\n",
    "new_cursor.execute(query)\n",
    "for a in new_cursor:\n",
    "    print(a)"
   ]
  },
  {
   "cell_type": "code",
   "execution_count": null,
   "id": "fa655e90",
   "metadata": {},
   "outputs": [],
   "source": []
  }
 ],
 "metadata": {
  "kernelspec": {
   "display_name": "Python 3 (ipykernel)",
   "language": "python",
   "name": "python3"
  },
  "language_info": {
   "codemirror_mode": {
    "name": "ipython",
    "version": 3
   },
   "file_extension": ".py",
   "mimetype": "text/x-python",
   "name": "python",
   "nbconvert_exporter": "python",
   "pygments_lexer": "ipython3",
   "version": "3.9.12"
  }
 },
 "nbformat": 4,
 "nbformat_minor": 5
}
